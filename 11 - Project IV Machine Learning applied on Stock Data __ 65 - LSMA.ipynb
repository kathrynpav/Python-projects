{
 "cells": [
  {
   "cell_type": "code",
   "execution_count": 1,
   "id": "2b4de8d3",
   "metadata": {},
   "outputs": [],
   "source": [
    "import yfinance as yf\n",
    "import pandas as pd\n",
    "import statsmodels.api as sm\n",
    "import matplotlib.pyplot as plt"
   ]
  },
  {
   "cell_type": "code",
   "execution_count": 2,
   "id": "34a53a6c",
   "metadata": {},
   "outputs": [
    {
     "name": "stdout",
     "output_type": "stream",
     "text": [
      "[*********************100%***********************]  1 of 1 completed\n"
     ]
    }
   ],
   "source": [
    "df = yf.download('AAPL', start='2020-01-01')"
   ]
  },
  {
   "cell_type": "code",
   "execution_count": 3,
   "id": "b3f2067d",
   "metadata": {},
   "outputs": [
    {
     "data": {
      "text/html": [
       "<div>\n",
       "<style scoped>\n",
       "    .dataframe tbody tr th:only-of-type {\n",
       "        vertical-align: middle;\n",
       "    }\n",
       "\n",
       "    .dataframe tbody tr th {\n",
       "        vertical-align: top;\n",
       "    }\n",
       "\n",
       "    .dataframe thead th {\n",
       "        text-align: right;\n",
       "    }\n",
       "</style>\n",
       "<table border=\"1\" class=\"dataframe\">\n",
       "  <thead>\n",
       "    <tr style=\"text-align: right;\">\n",
       "      <th></th>\n",
       "      <th>Open</th>\n",
       "      <th>High</th>\n",
       "      <th>Low</th>\n",
       "      <th>Close</th>\n",
       "      <th>Adj Close</th>\n",
       "      <th>Volume</th>\n",
       "    </tr>\n",
       "    <tr>\n",
       "      <th>Date</th>\n",
       "      <th></th>\n",
       "      <th></th>\n",
       "      <th></th>\n",
       "      <th></th>\n",
       "      <th></th>\n",
       "      <th></th>\n",
       "    </tr>\n",
       "  </thead>\n",
       "  <tbody>\n",
       "    <tr>\n",
       "      <th>2019-12-31</th>\n",
       "      <td>72.482498</td>\n",
       "      <td>73.419998</td>\n",
       "      <td>72.379997</td>\n",
       "      <td>73.412498</td>\n",
       "      <td>72.039886</td>\n",
       "      <td>100805600</td>\n",
       "    </tr>\n",
       "    <tr>\n",
       "      <th>2020-01-02</th>\n",
       "      <td>74.059998</td>\n",
       "      <td>75.150002</td>\n",
       "      <td>73.797501</td>\n",
       "      <td>75.087502</td>\n",
       "      <td>73.683571</td>\n",
       "      <td>135480400</td>\n",
       "    </tr>\n",
       "    <tr>\n",
       "      <th>2020-01-03</th>\n",
       "      <td>74.287498</td>\n",
       "      <td>75.144997</td>\n",
       "      <td>74.125000</td>\n",
       "      <td>74.357498</td>\n",
       "      <td>72.967216</td>\n",
       "      <td>146322800</td>\n",
       "    </tr>\n",
       "    <tr>\n",
       "      <th>2020-01-06</th>\n",
       "      <td>73.447502</td>\n",
       "      <td>74.989998</td>\n",
       "      <td>73.187500</td>\n",
       "      <td>74.949997</td>\n",
       "      <td>73.548630</td>\n",
       "      <td>118387200</td>\n",
       "    </tr>\n",
       "    <tr>\n",
       "      <th>2020-01-07</th>\n",
       "      <td>74.959999</td>\n",
       "      <td>75.224998</td>\n",
       "      <td>74.370003</td>\n",
       "      <td>74.597504</td>\n",
       "      <td>73.202728</td>\n",
       "      <td>108872000</td>\n",
       "    </tr>\n",
       "    <tr>\n",
       "      <th>...</th>\n",
       "      <td>...</td>\n",
       "      <td>...</td>\n",
       "      <td>...</td>\n",
       "      <td>...</td>\n",
       "      <td>...</td>\n",
       "      <td>...</td>\n",
       "    </tr>\n",
       "    <tr>\n",
       "      <th>2022-10-25</th>\n",
       "      <td>150.089996</td>\n",
       "      <td>152.490005</td>\n",
       "      <td>149.360001</td>\n",
       "      <td>152.339996</td>\n",
       "      <td>152.339996</td>\n",
       "      <td>74732300</td>\n",
       "    </tr>\n",
       "    <tr>\n",
       "      <th>2022-10-26</th>\n",
       "      <td>150.960007</td>\n",
       "      <td>151.990005</td>\n",
       "      <td>148.039993</td>\n",
       "      <td>149.350006</td>\n",
       "      <td>149.350006</td>\n",
       "      <td>88194300</td>\n",
       "    </tr>\n",
       "    <tr>\n",
       "      <th>2022-10-27</th>\n",
       "      <td>148.070007</td>\n",
       "      <td>149.050003</td>\n",
       "      <td>144.130005</td>\n",
       "      <td>144.800003</td>\n",
       "      <td>144.800003</td>\n",
       "      <td>109180200</td>\n",
       "    </tr>\n",
       "    <tr>\n",
       "      <th>2022-10-28</th>\n",
       "      <td>148.199997</td>\n",
       "      <td>157.500000</td>\n",
       "      <td>147.820007</td>\n",
       "      <td>155.740005</td>\n",
       "      <td>155.740005</td>\n",
       "      <td>164659100</td>\n",
       "    </tr>\n",
       "    <tr>\n",
       "      <th>2022-10-31</th>\n",
       "      <td>153.160004</td>\n",
       "      <td>154.240005</td>\n",
       "      <td>151.919998</td>\n",
       "      <td>153.339996</td>\n",
       "      <td>153.339996</td>\n",
       "      <td>97848900</td>\n",
       "    </tr>\n",
       "  </tbody>\n",
       "</table>\n",
       "<p>715 rows × 6 columns</p>\n",
       "</div>"
      ],
      "text/plain": [
       "                  Open        High         Low       Close   Adj Close  \\\n",
       "Date                                                                     \n",
       "2019-12-31   72.482498   73.419998   72.379997   73.412498   72.039886   \n",
       "2020-01-02   74.059998   75.150002   73.797501   75.087502   73.683571   \n",
       "2020-01-03   74.287498   75.144997   74.125000   74.357498   72.967216   \n",
       "2020-01-06   73.447502   74.989998   73.187500   74.949997   73.548630   \n",
       "2020-01-07   74.959999   75.224998   74.370003   74.597504   73.202728   \n",
       "...                ...         ...         ...         ...         ...   \n",
       "2022-10-25  150.089996  152.490005  149.360001  152.339996  152.339996   \n",
       "2022-10-26  150.960007  151.990005  148.039993  149.350006  149.350006   \n",
       "2022-10-27  148.070007  149.050003  144.130005  144.800003  144.800003   \n",
       "2022-10-28  148.199997  157.500000  147.820007  155.740005  155.740005   \n",
       "2022-10-31  153.160004  154.240005  151.919998  153.339996  153.339996   \n",
       "\n",
       "               Volume  \n",
       "Date                   \n",
       "2019-12-31  100805600  \n",
       "2020-01-02  135480400  \n",
       "2020-01-03  146322800  \n",
       "2020-01-06  118387200  \n",
       "2020-01-07  108872000  \n",
       "...               ...  \n",
       "2022-10-25   74732300  \n",
       "2022-10-26   88194300  \n",
       "2022-10-27  109180200  \n",
       "2022-10-28  164659100  \n",
       "2022-10-31   97848900  \n",
       "\n",
       "[715 rows x 6 columns]"
      ]
     },
     "execution_count": 3,
     "metadata": {},
     "output_type": "execute_result"
    }
   ],
   "source": [
    "df"
   ]
  },
  {
   "cell_type": "code",
   "execution_count": 4,
   "id": "bafb36c6",
   "metadata": {},
   "outputs": [],
   "source": [
    "window = 25"
   ]
  },
  {
   "cell_type": "code",
   "execution_count": 5,
   "id": "f2fd5c9f",
   "metadata": {},
   "outputs": [],
   "source": [
    "test_df = df[:window]"
   ]
  },
  {
   "cell_type": "code",
   "execution_count": 7,
   "id": "29218b01",
   "metadata": {},
   "outputs": [
    {
     "data": {
      "text/plain": [
       "(25, 6)"
      ]
     },
     "execution_count": 7,
     "metadata": {},
     "output_type": "execute_result"
    }
   ],
   "source": [
    "test_df.shape"
   ]
  },
  {
   "cell_type": "code",
   "execution_count": 33,
   "id": "e3e577e2",
   "metadata": {},
   "outputs": [
    {
     "data": {
      "text/plain": [
       "Timestamp('2020-02-05 00:00:00')"
      ]
     },
     "execution_count": 33,
     "metadata": {},
     "output_type": "execute_result"
    }
   ],
   "source": [
    "test_df.iloc[-1].name"
   ]
  },
  {
   "cell_type": "code",
   "execution_count": 9,
   "id": "01f98780",
   "metadata": {},
   "outputs": [],
   "source": [
    "y_ = test_df.Close"
   ]
  },
  {
   "cell_type": "code",
   "execution_count": 15,
   "id": "6e6b985d",
   "metadata": {},
   "outputs": [],
   "source": [
    "X_ = pd.Series(range(len(test_df.index))).values"
   ]
  },
  {
   "cell_type": "code",
   "execution_count": 17,
   "id": "bf873d1e",
   "metadata": {},
   "outputs": [],
   "source": [
    "model_ = sm.OLS(y_, sm.add_constant(X_)).fit()"
   ]
  },
  {
   "cell_type": "code",
   "execution_count": 19,
   "id": "41485713",
   "metadata": {},
   "outputs": [
    {
     "data": {
      "text/plain": [
       "const    75.230253\n",
       "x1        0.224854\n",
       "dtype: float64"
      ]
     },
     "execution_count": 19,
     "metadata": {},
     "output_type": "execute_result"
    }
   ],
   "source": [
    "model_.params"
   ]
  },
  {
   "cell_type": "code",
   "execution_count": 23,
   "id": "26f166e8",
   "metadata": {},
   "outputs": [
    {
     "data": {
      "text/plain": [
       "80.626749"
      ]
     },
     "execution_count": 23,
     "metadata": {},
     "output_type": "execute_result"
    }
   ],
   "source": [
    "75.230253 + 24 * 0.224854"
   ]
  },
  {
   "cell_type": "code",
   "execution_count": 24,
   "id": "62f91042",
   "metadata": {},
   "outputs": [
    {
     "data": {
      "text/plain": [
       "80.62674783559945"
      ]
     },
     "execution_count": 24,
     "metadata": {},
     "output_type": "execute_result"
    }
   ],
   "source": [
    "model_.predict()[-1]"
   ]
  },
  {
   "cell_type": "code",
   "execution_count": 28,
   "id": "ff1ac9c6",
   "metadata": {},
   "outputs": [
    {
     "data": {
      "text/plain": [
       "691"
      ]
     },
     "execution_count": 28,
     "metadata": {},
     "output_type": "execute_result"
    }
   ],
   "source": [
    "df.shape[0] - 24"
   ]
  },
  {
   "cell_type": "code",
   "execution_count": 34,
   "id": "7a8f6818",
   "metadata": {},
   "outputs": [],
   "source": [
    "lsma_arr = []\n",
    "dates_arr = []\n",
    "\n",
    "for i in range(len(df) - 24):\n",
    "    input_reg = df[i:25+i]\n",
    "    X = pd.Series(range(len(input_reg.index))).values\n",
    "    y = input_reg.Close\n",
    "    model = sm.OLS(y, sm.add_constant(X)).fit()\n",
    "    pred = model.predict()[-1]\n",
    "    lsma_arr.append(pred)\n",
    "    dates_arr.append(input_reg.iloc[-1].name)"
   ]
  },
  {
   "cell_type": "code",
   "execution_count": 36,
   "id": "4b204fd2",
   "metadata": {},
   "outputs": [],
   "source": [
    "lsma_df = pd.DataFrame({'LSMA':lsma_arr}, index=dates_arr)"
   ]
  },
  {
   "cell_type": "code",
   "execution_count": 37,
   "id": "af13e3a4",
   "metadata": {},
   "outputs": [
    {
     "data": {
      "text/html": [
       "<div>\n",
       "<style scoped>\n",
       "    .dataframe tbody tr th:only-of-type {\n",
       "        vertical-align: middle;\n",
       "    }\n",
       "\n",
       "    .dataframe tbody tr th {\n",
       "        vertical-align: top;\n",
       "    }\n",
       "\n",
       "    .dataframe thead th {\n",
       "        text-align: right;\n",
       "    }\n",
       "</style>\n",
       "<table border=\"1\" class=\"dataframe\">\n",
       "  <thead>\n",
       "    <tr style=\"text-align: right;\">\n",
       "      <th></th>\n",
       "      <th>LSMA</th>\n",
       "    </tr>\n",
       "  </thead>\n",
       "  <tbody>\n",
       "    <tr>\n",
       "      <th>2020-02-05</th>\n",
       "      <td>80.626748</td>\n",
       "    </tr>\n",
       "    <tr>\n",
       "      <th>2020-02-06</th>\n",
       "      <td>80.774163</td>\n",
       "    </tr>\n",
       "    <tr>\n",
       "      <th>2020-02-07</th>\n",
       "      <td>80.787501</td>\n",
       "    </tr>\n",
       "    <tr>\n",
       "      <th>2020-02-10</th>\n",
       "      <td>80.754316</td>\n",
       "    </tr>\n",
       "    <tr>\n",
       "      <th>2020-02-11</th>\n",
       "      <td>80.639746</td>\n",
       "    </tr>\n",
       "    <tr>\n",
       "      <th>...</th>\n",
       "      <td>...</td>\n",
       "    </tr>\n",
       "    <tr>\n",
       "      <th>2022-10-25</th>\n",
       "      <td>142.537231</td>\n",
       "    </tr>\n",
       "    <tr>\n",
       "      <th>2022-10-26</th>\n",
       "      <td>143.826155</td>\n",
       "    </tr>\n",
       "    <tr>\n",
       "      <th>2022-10-27</th>\n",
       "      <td>144.391018</td>\n",
       "    </tr>\n",
       "    <tr>\n",
       "      <th>2022-10-28</th>\n",
       "      <td>146.493787</td>\n",
       "    </tr>\n",
       "    <tr>\n",
       "      <th>2022-10-31</th>\n",
       "      <td>148.212895</td>\n",
       "    </tr>\n",
       "  </tbody>\n",
       "</table>\n",
       "<p>691 rows × 1 columns</p>\n",
       "</div>"
      ],
      "text/plain": [
       "                  LSMA\n",
       "2020-02-05   80.626748\n",
       "2020-02-06   80.774163\n",
       "2020-02-07   80.787501\n",
       "2020-02-10   80.754316\n",
       "2020-02-11   80.639746\n",
       "...                ...\n",
       "2022-10-25  142.537231\n",
       "2022-10-26  143.826155\n",
       "2022-10-27  144.391018\n",
       "2022-10-28  146.493787\n",
       "2022-10-31  148.212895\n",
       "\n",
       "[691 rows x 1 columns]"
      ]
     },
     "execution_count": 37,
     "metadata": {},
     "output_type": "execute_result"
    }
   ],
   "source": [
    "lsma_df"
   ]
  },
  {
   "cell_type": "code",
   "execution_count": 39,
   "id": "54fb0c9a",
   "metadata": {},
   "outputs": [],
   "source": [
    "all_df = pd.concat([lsma_df,df],axis=1)"
   ]
  },
  {
   "cell_type": "code",
   "execution_count": 42,
   "id": "13de8d37",
   "metadata": {},
   "outputs": [],
   "source": [
    "all_df.dropna(inplace=True)"
   ]
  },
  {
   "cell_type": "code",
   "execution_count": 43,
   "id": "e58631f3",
   "metadata": {},
   "outputs": [
    {
     "data": {
      "text/html": [
       "<div>\n",
       "<style scoped>\n",
       "    .dataframe tbody tr th:only-of-type {\n",
       "        vertical-align: middle;\n",
       "    }\n",
       "\n",
       "    .dataframe tbody tr th {\n",
       "        vertical-align: top;\n",
       "    }\n",
       "\n",
       "    .dataframe thead th {\n",
       "        text-align: right;\n",
       "    }\n",
       "</style>\n",
       "<table border=\"1\" class=\"dataframe\">\n",
       "  <thead>\n",
       "    <tr style=\"text-align: right;\">\n",
       "      <th></th>\n",
       "      <th>LSMA</th>\n",
       "      <th>Open</th>\n",
       "      <th>High</th>\n",
       "      <th>Low</th>\n",
       "      <th>Close</th>\n",
       "      <th>Adj Close</th>\n",
       "      <th>Volume</th>\n",
       "    </tr>\n",
       "  </thead>\n",
       "  <tbody>\n",
       "    <tr>\n",
       "      <th>2020-02-05</th>\n",
       "      <td>80.626748</td>\n",
       "      <td>80.879997</td>\n",
       "      <td>81.190002</td>\n",
       "      <td>79.737503</td>\n",
       "      <td>80.362503</td>\n",
       "      <td>78.859947</td>\n",
       "      <td>118826800</td>\n",
       "    </tr>\n",
       "    <tr>\n",
       "      <th>2020-02-06</th>\n",
       "      <td>80.774163</td>\n",
       "      <td>80.642502</td>\n",
       "      <td>81.305000</td>\n",
       "      <td>80.065002</td>\n",
       "      <td>81.302498</td>\n",
       "      <td>79.782356</td>\n",
       "      <td>105425600</td>\n",
       "    </tr>\n",
       "    <tr>\n",
       "      <th>2020-02-07</th>\n",
       "      <td>80.787501</td>\n",
       "      <td>80.592499</td>\n",
       "      <td>80.849998</td>\n",
       "      <td>79.500000</td>\n",
       "      <td>80.007500</td>\n",
       "      <td>78.697899</td>\n",
       "      <td>117684000</td>\n",
       "    </tr>\n",
       "    <tr>\n",
       "      <th>2020-02-10</th>\n",
       "      <td>80.754316</td>\n",
       "      <td>78.544998</td>\n",
       "      <td>80.387497</td>\n",
       "      <td>78.462502</td>\n",
       "      <td>80.387497</td>\n",
       "      <td>79.071686</td>\n",
       "      <td>109348800</td>\n",
       "    </tr>\n",
       "    <tr>\n",
       "      <th>2020-02-11</th>\n",
       "      <td>80.639746</td>\n",
       "      <td>80.900002</td>\n",
       "      <td>80.974998</td>\n",
       "      <td>79.677498</td>\n",
       "      <td>79.902496</td>\n",
       "      <td>78.594620</td>\n",
       "      <td>94323200</td>\n",
       "    </tr>\n",
       "    <tr>\n",
       "      <th>...</th>\n",
       "      <td>...</td>\n",
       "      <td>...</td>\n",
       "      <td>...</td>\n",
       "      <td>...</td>\n",
       "      <td>...</td>\n",
       "      <td>...</td>\n",
       "      <td>...</td>\n",
       "    </tr>\n",
       "    <tr>\n",
       "      <th>2022-10-25</th>\n",
       "      <td>142.537231</td>\n",
       "      <td>150.089996</td>\n",
       "      <td>152.490005</td>\n",
       "      <td>149.360001</td>\n",
       "      <td>152.339996</td>\n",
       "      <td>152.339996</td>\n",
       "      <td>74732300</td>\n",
       "    </tr>\n",
       "    <tr>\n",
       "      <th>2022-10-26</th>\n",
       "      <td>143.826155</td>\n",
       "      <td>150.960007</td>\n",
       "      <td>151.990005</td>\n",
       "      <td>148.039993</td>\n",
       "      <td>149.350006</td>\n",
       "      <td>149.350006</td>\n",
       "      <td>88194300</td>\n",
       "    </tr>\n",
       "    <tr>\n",
       "      <th>2022-10-27</th>\n",
       "      <td>144.391018</td>\n",
       "      <td>148.070007</td>\n",
       "      <td>149.050003</td>\n",
       "      <td>144.130005</td>\n",
       "      <td>144.800003</td>\n",
       "      <td>144.800003</td>\n",
       "      <td>109180200</td>\n",
       "    </tr>\n",
       "    <tr>\n",
       "      <th>2022-10-28</th>\n",
       "      <td>146.493787</td>\n",
       "      <td>148.199997</td>\n",
       "      <td>157.500000</td>\n",
       "      <td>147.820007</td>\n",
       "      <td>155.740005</td>\n",
       "      <td>155.740005</td>\n",
       "      <td>164659100</td>\n",
       "    </tr>\n",
       "    <tr>\n",
       "      <th>2022-10-31</th>\n",
       "      <td>148.212895</td>\n",
       "      <td>153.160004</td>\n",
       "      <td>154.240005</td>\n",
       "      <td>151.919998</td>\n",
       "      <td>153.339996</td>\n",
       "      <td>153.339996</td>\n",
       "      <td>97848900</td>\n",
       "    </tr>\n",
       "  </tbody>\n",
       "</table>\n",
       "<p>691 rows × 7 columns</p>\n",
       "</div>"
      ],
      "text/plain": [
       "                  LSMA        Open        High         Low       Close  \\\n",
       "2020-02-05   80.626748   80.879997   81.190002   79.737503   80.362503   \n",
       "2020-02-06   80.774163   80.642502   81.305000   80.065002   81.302498   \n",
       "2020-02-07   80.787501   80.592499   80.849998   79.500000   80.007500   \n",
       "2020-02-10   80.754316   78.544998   80.387497   78.462502   80.387497   \n",
       "2020-02-11   80.639746   80.900002   80.974998   79.677498   79.902496   \n",
       "...                ...         ...         ...         ...         ...   \n",
       "2022-10-25  142.537231  150.089996  152.490005  149.360001  152.339996   \n",
       "2022-10-26  143.826155  150.960007  151.990005  148.039993  149.350006   \n",
       "2022-10-27  144.391018  148.070007  149.050003  144.130005  144.800003   \n",
       "2022-10-28  146.493787  148.199997  157.500000  147.820007  155.740005   \n",
       "2022-10-31  148.212895  153.160004  154.240005  151.919998  153.339996   \n",
       "\n",
       "             Adj Close     Volume  \n",
       "2020-02-05   78.859947  118826800  \n",
       "2020-02-06   79.782356  105425600  \n",
       "2020-02-07   78.697899  117684000  \n",
       "2020-02-10   79.071686  109348800  \n",
       "2020-02-11   78.594620   94323200  \n",
       "...                ...        ...  \n",
       "2022-10-25  152.339996   74732300  \n",
       "2022-10-26  149.350006   88194300  \n",
       "2022-10-27  144.800003  109180200  \n",
       "2022-10-28  155.740005  164659100  \n",
       "2022-10-31  153.339996   97848900  \n",
       "\n",
       "[691 rows x 7 columns]"
      ]
     },
     "execution_count": 43,
     "metadata": {},
     "output_type": "execute_result"
    }
   ],
   "source": [
    "all_df"
   ]
  },
  {
   "cell_type": "code",
   "execution_count": 44,
   "id": "21dfba79",
   "metadata": {},
   "outputs": [],
   "source": [
    "all_df['signal_buy'] = all_df.Close < all_df.LSMA\n",
    "all_df['signal_sell'] = all_df.Close > all_df.LSMA"
   ]
  },
  {
   "cell_type": "code",
   "execution_count": 46,
   "id": "ea3765a8",
   "metadata": {},
   "outputs": [],
   "source": [
    "all_df['shifted_open'] = all_df.Open.shift(-1)"
   ]
  },
  {
   "cell_type": "code",
   "execution_count": 48,
   "id": "9a025db4",
   "metadata": {},
   "outputs": [],
   "source": [
    "in_position = False\n",
    "\n",
    "buydates,selldates = [],[]\n",
    "buyprices,sellprices = [],[]\n",
    "\n",
    "\n",
    "for index,row in all_df.iterrows():\n",
    "    if not in_position and row.signal_buy == True:\n",
    "        buyprice = row.shifted_open\n",
    "        buyprices.append(buyprice)\n",
    "        buydates.append(index)\n",
    "        in_position = True\n",
    "    if in_position and row.signal_sell == True:\n",
    "        sellprice = row.shifted_open\n",
    "        sellprices.append(sellprice)\n",
    "        selldates.append(index)\n",
    "        in_position = False"
   ]
  },
  {
   "cell_type": "code",
   "execution_count": 54,
   "id": "b164c6ef",
   "metadata": {},
   "outputs": [],
   "source": [
    "profits = pd.Series([(sell - buy)/buy for sell,buy in zip(sellprices,buyprices)])"
   ]
  },
  {
   "cell_type": "code",
   "execution_count": 55,
   "id": "b65af9ba",
   "metadata": {},
   "outputs": [
    {
     "data": {
      "text/plain": [
       "2.0533266575867155"
      ]
     },
     "execution_count": 55,
     "metadata": {},
     "output_type": "execute_result"
    }
   ],
   "source": [
    "(profits + 1).prod()"
   ]
  },
  {
   "cell_type": "code",
   "execution_count": 56,
   "id": "19bc2627",
   "metadata": {},
   "outputs": [
    {
     "data": {
      "text/plain": [
       "<matplotlib.collections.PathCollection at 0x148b475b0>"
      ]
     },
     "execution_count": 56,
     "metadata": {},
     "output_type": "execute_result"
    },
    {
     "data": {
      "image/png": "[encoded data removed]",
      "text/plain": [
       "<Figure size 1440x576 with 1 Axes>"
      ]
     },
     "metadata": {
      "needs_background": "light"
     },
     "output_type": "display_data"
    }
   ],
   "source": [
    "plt.figure(figsize=(20,8))\n",
    "plt.plot(all_df[['Open','LSMA']])\n",
    "plt.scatter(buydates, all_df.loc[buydates].shifted_open, marker='^', color='green')\n",
    "plt.scatter(selldates, all_df.loc[selldates].shifted_open, marker='v', color='red')"
   ]
  },
  {
   "cell_type": "code",
   "execution_count": 57,
   "id": "3e6cc438",
   "metadata": {},
   "outputs": [
    {
     "data": {
      "text/plain": [
       "True     47\n",
       "False    22\n",
       "dtype: int64"
      ]
     },
     "execution_count": 57,
     "metadata": {},
     "output_type": "execute_result"
    }
   ],
   "source": [
    "(profits > 0).value_counts()"
   ]
  },
  {
   "cell_type": "code",
   "execution_count": 59,
   "id": "fe4d5f59",
   "metadata": {},
   "outputs": [
    {
     "data": {
      "text/plain": [
       "0.6811594202898551"
      ]
     },
     "execution_count": 59,
     "metadata": {},
     "output_type": "execute_result"
    }
   ],
   "source": [
    "47/(47+22)"
   ]
  },
  {
   "cell_type": "code",
   "execution_count": 63,
   "id": "8393df0e",
   "metadata": {},
   "outputs": [
    {
     "data": {
      "text/plain": [
       "0.9081037831785803"
      ]
     },
     "execution_count": 63,
     "metadata": {},
     "output_type": "execute_result"
    }
   ],
   "source": [
    "153.339996/80.362503 - 1"
   ]
  },
  {
   "cell_type": "code",
   "execution_count": 60,
   "id": "edf12c02",
   "metadata": {},
   "outputs": [
    {
     "data": {
      "text/html": [
       "<div>\n",
       "<style scoped>\n",
       "    .dataframe tbody tr th:only-of-type {\n",
       "        vertical-align: middle;\n",
       "    }\n",
       "\n",
       "    .dataframe tbody tr th {\n",
       "        vertical-align: top;\n",
       "    }\n",
       "\n",
       "    .dataframe thead th {\n",
       "        text-align: right;\n",
       "    }\n",
       "</style>\n",
       "<table border=\"1\" class=\"dataframe\">\n",
       "  <thead>\n",
       "    <tr style=\"text-align: right;\">\n",
       "      <th></th>\n",
       "      <th>LSMA</th>\n",
       "      <th>Open</th>\n",
       "      <th>High</th>\n",
       "      <th>Low</th>\n",
       "      <th>Close</th>\n",
       "      <th>Adj Close</th>\n",
       "      <th>Volume</th>\n",
       "      <th>signal_buy</th>\n",
       "      <th>signal_sell</th>\n",
       "      <th>shifted_open</th>\n",
       "    </tr>\n",
       "  </thead>\n",
       "  <tbody>\n",
       "    <tr>\n",
       "      <th>2020-02-05</th>\n",
       "      <td>80.626748</td>\n",
       "      <td>80.879997</td>\n",
       "      <td>81.190002</td>\n",
       "      <td>79.737503</td>\n",
       "      <td>80.362503</td>\n",
       "      <td>78.859947</td>\n",
       "      <td>118826800</td>\n",
       "      <td>True</td>\n",
       "      <td>False</td>\n",
       "      <td>80.642502</td>\n",
       "    </tr>\n",
       "    <tr>\n",
       "      <th>2020-02-06</th>\n",
       "      <td>80.774163</td>\n",
       "      <td>80.642502</td>\n",
       "      <td>81.305000</td>\n",
       "      <td>80.065002</td>\n",
       "      <td>81.302498</td>\n",
       "      <td>79.782356</td>\n",
       "      <td>105425600</td>\n",
       "      <td>False</td>\n",
       "      <td>True</td>\n",
       "      <td>80.592499</td>\n",
       "    </tr>\n",
       "    <tr>\n",
       "      <th>2020-02-07</th>\n",
       "      <td>80.787501</td>\n",
       "      <td>80.592499</td>\n",
       "      <td>80.849998</td>\n",
       "      <td>79.500000</td>\n",
       "      <td>80.007500</td>\n",
       "      <td>78.697899</td>\n",
       "      <td>117684000</td>\n",
       "      <td>True</td>\n",
       "      <td>False</td>\n",
       "      <td>78.544998</td>\n",
       "    </tr>\n",
       "    <tr>\n",
       "      <th>2020-02-10</th>\n",
       "      <td>80.754316</td>\n",
       "      <td>78.544998</td>\n",
       "      <td>80.387497</td>\n",
       "      <td>78.462502</td>\n",
       "      <td>80.387497</td>\n",
       "      <td>79.071686</td>\n",
       "      <td>109348800</td>\n",
       "      <td>True</td>\n",
       "      <td>False</td>\n",
       "      <td>80.900002</td>\n",
       "    </tr>\n",
       "    <tr>\n",
       "      <th>2020-02-11</th>\n",
       "      <td>80.639746</td>\n",
       "      <td>80.900002</td>\n",
       "      <td>80.974998</td>\n",
       "      <td>79.677498</td>\n",
       "      <td>79.902496</td>\n",
       "      <td>78.594620</td>\n",
       "      <td>94323200</td>\n",
       "      <td>True</td>\n",
       "      <td>False</td>\n",
       "      <td>80.367500</td>\n",
       "    </tr>\n",
       "    <tr>\n",
       "      <th>...</th>\n",
       "      <td>...</td>\n",
       "      <td>...</td>\n",
       "      <td>...</td>\n",
       "      <td>...</td>\n",
       "      <td>...</td>\n",
       "      <td>...</td>\n",
       "      <td>...</td>\n",
       "      <td>...</td>\n",
       "      <td>...</td>\n",
       "      <td>...</td>\n",
       "    </tr>\n",
       "    <tr>\n",
       "      <th>2022-10-25</th>\n",
       "      <td>142.537231</td>\n",
       "      <td>150.089996</td>\n",
       "      <td>152.490005</td>\n",
       "      <td>149.360001</td>\n",
       "      <td>152.339996</td>\n",
       "      <td>152.339996</td>\n",
       "      <td>74732300</td>\n",
       "      <td>False</td>\n",
       "      <td>True</td>\n",
       "      <td>150.960007</td>\n",
       "    </tr>\n",
       "    <tr>\n",
       "      <th>2022-10-26</th>\n",
       "      <td>143.826155</td>\n",
       "      <td>150.960007</td>\n",
       "      <td>151.990005</td>\n",
       "      <td>148.039993</td>\n",
       "      <td>149.350006</td>\n",
       "      <td>149.350006</td>\n",
       "      <td>88194300</td>\n",
       "      <td>False</td>\n",
       "      <td>True</td>\n",
       "      <td>148.070007</td>\n",
       "    </tr>\n",
       "    <tr>\n",
       "      <th>2022-10-27</th>\n",
       "      <td>144.391018</td>\n",
       "      <td>148.070007</td>\n",
       "      <td>149.050003</td>\n",
       "      <td>144.130005</td>\n",
       "      <td>144.800003</td>\n",
       "      <td>144.800003</td>\n",
       "      <td>109180200</td>\n",
       "      <td>False</td>\n",
       "      <td>True</td>\n",
       "      <td>148.199997</td>\n",
       "    </tr>\n",
       "    <tr>\n",
       "      <th>2022-10-28</th>\n",
       "      <td>146.493787</td>\n",
       "      <td>148.199997</td>\n",
       "      <td>157.500000</td>\n",
       "      <td>147.820007</td>\n",
       "      <td>155.740005</td>\n",
       "      <td>155.740005</td>\n",
       "      <td>164659100</td>\n",
       "      <td>False</td>\n",
       "      <td>True</td>\n",
       "      <td>153.160004</td>\n",
       "    </tr>\n",
       "    <tr>\n",
       "      <th>2022-10-31</th>\n",
       "      <td>148.212895</td>\n",
       "      <td>153.160004</td>\n",
       "      <td>154.240005</td>\n",
       "      <td>151.919998</td>\n",
       "      <td>153.339996</td>\n",
       "      <td>153.339996</td>\n",
       "      <td>97848900</td>\n",
       "      <td>False</td>\n",
       "      <td>True</td>\n",
       "      <td>NaN</td>\n",
       "    </tr>\n",
       "  </tbody>\n",
       "</table>\n",
       "<p>691 rows × 10 columns</p>\n",
       "</div>"
      ],
      "text/plain": [
       "                  LSMA        Open        High         Low       Close  \\\n",
       "2020-02-05   80.626748   80.879997   81.190002   79.737503   80.362503   \n",
       "2020-02-06   80.774163   80.642502   81.305000   80.065002   81.302498   \n",
       "2020-02-07   80.787501   80.592499   80.849998   79.500000   80.007500   \n",
       "2020-02-10   80.754316   78.544998   80.387497   78.462502   80.387497   \n",
       "2020-02-11   80.639746   80.900002   80.974998   79.677498   79.902496   \n",
       "...                ...         ...         ...         ...         ...   \n",
       "2022-10-25  142.537231  150.089996  152.490005  149.360001  152.339996   \n",
       "2022-10-26  143.826155  150.960007  151.990005  148.039993  149.350006   \n",
       "2022-10-27  144.391018  148.070007  149.050003  144.130005  144.800003   \n",
       "2022-10-28  146.493787  148.199997  157.500000  147.820007  155.740005   \n",
       "2022-10-31  148.212895  153.160004  154.240005  151.919998  153.339996   \n",
       "\n",
       "             Adj Close     Volume  signal_buy  signal_sell  shifted_open  \n",
       "2020-02-05   78.859947  118826800        True        False     80.642502  \n",
       "2020-02-06   79.782356  105425600       False         True     80.592499  \n",
       "2020-02-07   78.697899  117684000        True        False     78.544998  \n",
       "2020-02-10   79.071686  109348800        True        False     80.900002  \n",
       "2020-02-11   78.594620   94323200        True        False     80.367500  \n",
       "...                ...        ...         ...          ...           ...  \n",
       "2022-10-25  152.339996   74732300       False         True    150.960007  \n",
       "2022-10-26  149.350006   88194300       False         True    148.070007  \n",
       "2022-10-27  144.800003  109180200       False         True    148.199997  \n",
       "2022-10-28  155.740005  164659100       False         True    153.160004  \n",
       "2022-10-31  153.339996   97848900       False         True           NaN  \n",
       "\n",
       "[691 rows x 10 columns]"
      ]
     },
     "execution_count": 60,
     "metadata": {},
     "output_type": "execute_result"
    }
   ],
   "source": [
    "all_df"
   ]
  },
  {
   "cell_type": "code",
   "execution_count": null,
   "id": "e250f08a",
   "metadata": {},
   "outputs": [],
   "source": []
  }
 ],
 "metadata": {
  "kernelspec": {
   "display_name": "Python 3 (ipykernel)",
   "language": "python",
   "name": "python3"
  },
  "language_info": {
   "codemirror_mode": {
    "name": "ipython",
    "version": 3
   },
   "file_extension": ".py",
   "mimetype": "text/x-python",
   "name": "python",
   "nbconvert_exporter": "python",
   "pygments_lexer": "ipython3",
   "version": "3.9.13"
  }
 },
 "nbformat": 4,
 "nbformat_minor": 5
}
