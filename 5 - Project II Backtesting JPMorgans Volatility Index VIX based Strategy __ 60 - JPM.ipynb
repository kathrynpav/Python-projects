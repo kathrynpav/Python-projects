{
 "cells": [
  {
   "cell_type": "code",
   "execution_count": 325,
   "id": "2b518264",
   "metadata": {},
   "outputs": [],
   "source": [
    "import yfinance as yf\n",
    "import pandas as pd\n",
    "import numpy as np"
   ]
  },
  {
   "cell_type": "code",
   "execution_count": 326,
   "id": "2758602b",
   "metadata": {
    "scrolled": true
   },
   "outputs": [
    {
     "name": "stdout",
     "output_type": "stream",
     "text": [
      "[*********************100%***********************]  1 of 1 completed\n"
     ]
    }
   ],
   "source": [
    "df = yf.download('^VIX')"
   ]
  },
  {
   "cell_type": "code",
   "execution_count": 327,
   "id": "94fd8ac9",
   "metadata": {
    "scrolled": true
   },
   "outputs": [],
   "source": [
    "df['1MMA'] = df.Close.rolling('30D').mean()"
   ]
  },
  {
   "cell_type": "code",
   "execution_count": 328,
   "id": "b4c1a46d",
   "metadata": {
    "scrolled": false
   },
   "outputs": [],
   "source": [
    "vix_ = df[df.Close > 1.5 * df['1MMA']]"
   ]
  },
  {
   "cell_type": "code",
   "execution_count": 354,
   "id": "7a8b9893",
   "metadata": {},
   "outputs": [],
   "source": [
    "bool_ = pd.Series(vix_.index).diff() / np.timedelta64(1, 'D') >= 60"
   ]
  },
  {
   "cell_type": "code",
   "execution_count": 355,
   "id": "f85b56fa",
   "metadata": {},
   "outputs": [],
   "source": [
    "bool_[0] = True"
   ]
  },
  {
   "cell_type": "code",
   "execution_count": 356,
   "id": "3504566a",
   "metadata": {
    "scrolled": true
   },
   "outputs": [
    {
     "data": {
      "text/plain": [
       "0     True\n",
       "1     True\n",
       "2     True\n",
       "3     True\n",
       "4     True\n",
       "5     True\n",
       "6     True\n",
       "7     True\n",
       "8     True\n",
       "9     True\n",
       "10    True\n",
       "11    True\n",
       "12    True\n",
       "13    True\n",
       "14    True\n",
       "15    True\n",
       "16    True\n",
       "Name: Date, dtype: bool"
      ]
     },
     "execution_count": 356,
     "metadata": {},
     "output_type": "execute_result"
    }
   ],
   "source": [
    "bool_"
   ]
  },
  {
   "cell_type": "code",
   "execution_count": 357,
   "id": "6ceaaa3f",
   "metadata": {
    "scrolled": false
   },
   "outputs": [
    {
     "data": {
      "text/plain": [
       "(17, 7)"
      ]
     },
     "execution_count": 357,
     "metadata": {},
     "output_type": "execute_result"
    }
   ],
   "source": [
    "vix_[bool_.values].shape"
   ]
  },
  {
   "cell_type": "code",
   "execution_count": 358,
   "id": "c0b7f80c",
   "metadata": {},
   "outputs": [],
   "source": [
    "vix_ = vix_[bool_.values]"
   ]
  },
  {
   "cell_type": "code",
   "execution_count": 359,
   "id": "1adfc654",
   "metadata": {
    "scrolled": true
   },
   "outputs": [
    {
     "name": "stdout",
     "output_type": "stream",
     "text": [
      "[*********************100%***********************]  1 of 1 completed\n"
     ]
    }
   ],
   "source": [
    "df1 = yf.download('^GSPC')"
   ]
  },
  {
   "cell_type": "code",
   "execution_count": 360,
   "id": "d16a006c",
   "metadata": {
    "scrolled": true
   },
   "outputs": [
    {
     "data": {
      "text/plain": [
       "pandas._libs.tslibs.offsets.DateOffset"
      ]
     },
     "execution_count": 360,
     "metadata": {},
     "output_type": "execute_result"
    }
   ],
   "source": [
    "pd.tseries.offsets.DateOffset"
   ]
  },
  {
   "cell_type": "code",
   "execution_count": 361,
   "id": "a2fa1efc",
   "metadata": {},
   "outputs": [],
   "source": [
    "from pandas.tseries.offsets import DateOffset"
   ]
  },
  {
   "cell_type": "code",
   "execution_count": 367,
   "id": "6c5d02e6",
   "metadata": {},
   "outputs": [
    {
     "data": {
      "text/plain": [
       "<matplotlib.axes._subplots.AxesSubplot at 0x11e9f24c0>"
      ]
     },
     "execution_count": 367,
     "metadata": {},
     "output_type": "execute_result"
    },
    {
     "data": {
      "image/png": "[encoded data removed]",
      "text/plain": [
       "<Figure size 432x288 with 1 Axes>"
      ]
     },
     "metadata": {
      "needs_background": "light"
     },
     "output_type": "display_data"
    }
   ],
   "source": [
    "pd.Series(returns).plot(kind='bar')"
   ]
  },
  {
   "cell_type": "code",
   "execution_count": 363,
   "id": "809cc279",
   "metadata": {},
   "outputs": [],
   "source": [
    "returns = []\n",
    "\n",
    "for i in range(len(vix_)):\n",
    "    x_ = df1[(df1.index >= vix_.index[i]) & \n",
    "             (df1.index <= vix_.index[i] + DateOffset(months=6))]\n",
    "    returns.append((x_.Close.pct_change() + 1).prod() - 1)"
   ]
  },
  {
   "cell_type": "code",
   "execution_count": 364,
   "id": "1edf9c87",
   "metadata": {
    "scrolled": true
   },
   "outputs": [],
   "source": [
    "x_ = df1[(df1.index >= vix_.index[0]) & (df1.index <= vix_.index[0] + DateOffset(months=6))]"
   ]
  },
  {
   "cell_type": "code",
   "execution_count": 365,
   "id": "64be412a",
   "metadata": {
    "scrolled": true
   },
   "outputs": [
    {
     "data": {
      "text/plain": [
       "2.2662709251704554"
      ]
     },
     "execution_count": 365,
     "metadata": {},
     "output_type": "execute_result"
    }
   ],
   "source": [
    "(pd.Series(returns) + 1).prod()"
   ]
  },
  {
   "cell_type": "code",
   "execution_count": 366,
   "id": "939fad6c",
   "metadata": {
    "scrolled": false
   },
   "outputs": [
    {
     "data": {
      "text/plain": [
       "0.057911630213309556"
      ]
     },
     "execution_count": 366,
     "metadata": {},
     "output_type": "execute_result"
    }
   ],
   "source": [
    "pd.Series(returns).mean()"
   ]
  },
  {
   "cell_type": "code",
   "execution_count": 368,
   "id": "465b6d13",
   "metadata": {},
   "outputs": [
    {
     "data": {
      "text/plain": [
       "[0.07068748367720579,\n",
       " 0.03570122671732756,\n",
       " 0.23024744269055453,\n",
       " 0.12263543638458407,\n",
       " 0.04842606223435886,\n",
       " -0.3271128380040973,\n",
       " 0.08660191380363291,\n",
       " 0.12068469723190023,\n",
       " 0.11611740430150763,\n",
       " -0.026947209106966352,\n",
       " 0.11111165699837189,\n",
       " 0.07437427079532388,\n",
       " 0.03680610544388374,\n",
       " 0.17223013451275304,\n",
       " 0.06366929546829603,\n",
       " 0.17348169523002843,\n",
       " -0.12421706475240257]"
      ]
     },
     "execution_count": 368,
     "metadata": {},
     "output_type": "execute_result"
    }
   ],
   "source": [
    "returns"
   ]
  },
  {
   "cell_type": "code",
   "execution_count": null,
   "id": "25ff6a44",
   "metadata": {},
   "outputs": [],
   "source": []
  }
 ],
 "metadata": {
  "kernelspec": {
   "display_name": "Python 3 (ipykernel)",
   "language": "python",
   "name": "python3"
  },
  "language_info": {
   "codemirror_mode": {
    "name": "ipython",
    "version": 3
   },
   "file_extension": ".py",
   "mimetype": "text/x-python",
   "name": "python",
   "nbconvert_exporter": "python",
   "pygments_lexer": "ipython3",
   "version": "3.9.13"
  }
 },
 "nbformat": 4,
 "nbformat_minor": 5
}
