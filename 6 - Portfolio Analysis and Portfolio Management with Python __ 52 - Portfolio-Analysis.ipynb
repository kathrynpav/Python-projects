{
 "cells": [
  {
   "cell_type": "code",
   "execution_count": 1,
   "id": "1ef72b37",
   "metadata": {},
   "outputs": [],
   "source": [
    "import pandas as pd\n",
    "import numpy as np\n",
    "import yfinance as yf"
   ]
  },
  {
   "cell_type": "code",
   "execution_count": 2,
   "id": "4771fbf9",
   "metadata": {},
   "outputs": [
    {
     "name": "stdout",
     "output_type": "stream",
     "text": [
      "[*********************100%***********************]  3 of 3 completed\n"
     ]
    }
   ],
   "source": [
    "df = yf.download(['MSFT','KO','TSLA'],start='2015-01-01')['Adj Close']"
   ]
  },
  {
   "cell_type": "code",
   "execution_count": 3,
   "id": "f6d2f792",
   "metadata": {
    "scrolled": true
   },
   "outputs": [
    {
     "data": {
      "text/html": [
       "<div>\n",
       "<style scoped>\n",
       "    .dataframe tbody tr th:only-of-type {\n",
       "        vertical-align: middle;\n",
       "    }\n",
       "\n",
       "    .dataframe tbody tr th {\n",
       "        vertical-align: top;\n",
       "    }\n",
       "\n",
       "    .dataframe thead th {\n",
       "        text-align: right;\n",
       "    }\n",
       "</style>\n",
       "<table border=\"1\" class=\"dataframe\">\n",
       "  <thead>\n",
       "    <tr style=\"text-align: right;\">\n",
       "      <th></th>\n",
       "      <th>KO</th>\n",
       "      <th>MSFT</th>\n",
       "      <th>TSLA</th>\n",
       "    </tr>\n",
       "    <tr>\n",
       "      <th>Date</th>\n",
       "      <th></th>\n",
       "      <th></th>\n",
       "      <th></th>\n",
       "    </tr>\n",
       "  </thead>\n",
       "  <tbody>\n",
       "    <tr>\n",
       "      <th>2015-01-02</th>\n",
       "      <td>32.102886</td>\n",
       "      <td>40.620655</td>\n",
       "      <td>14.620667</td>\n",
       "    </tr>\n",
       "    <tr>\n",
       "      <th>2015-01-05</th>\n",
       "      <td>32.102886</td>\n",
       "      <td>40.247131</td>\n",
       "      <td>14.006000</td>\n",
       "    </tr>\n",
       "    <tr>\n",
       "      <th>2015-01-06</th>\n",
       "      <td>32.346664</td>\n",
       "      <td>39.656399</td>\n",
       "      <td>14.085333</td>\n",
       "    </tr>\n",
       "    <tr>\n",
       "      <th>2015-01-07</th>\n",
       "      <td>32.750423</td>\n",
       "      <td>40.160244</td>\n",
       "      <td>14.063333</td>\n",
       "    </tr>\n",
       "    <tr>\n",
       "      <th>2015-01-08</th>\n",
       "      <td>33.146564</td>\n",
       "      <td>41.341686</td>\n",
       "      <td>14.041333</td>\n",
       "    </tr>\n",
       "    <tr>\n",
       "      <th>...</th>\n",
       "      <td>...</td>\n",
       "      <td>...</td>\n",
       "      <td>...</td>\n",
       "    </tr>\n",
       "    <tr>\n",
       "      <th>2023-06-09</th>\n",
       "      <td>60.012947</td>\n",
       "      <td>326.790009</td>\n",
       "      <td>244.399994</td>\n",
       "    </tr>\n",
       "    <tr>\n",
       "      <th>2023-06-12</th>\n",
       "      <td>59.754910</td>\n",
       "      <td>331.850006</td>\n",
       "      <td>249.830002</td>\n",
       "    </tr>\n",
       "    <tr>\n",
       "      <th>2023-06-13</th>\n",
       "      <td>59.993099</td>\n",
       "      <td>334.290009</td>\n",
       "      <td>258.709991</td>\n",
       "    </tr>\n",
       "    <tr>\n",
       "      <th>2023-06-14</th>\n",
       "      <td>60.400002</td>\n",
       "      <td>337.339996</td>\n",
       "      <td>256.790009</td>\n",
       "    </tr>\n",
       "    <tr>\n",
       "      <th>2023-06-15</th>\n",
       "      <td>61.230000</td>\n",
       "      <td>348.100006</td>\n",
       "      <td>255.899994</td>\n",
       "    </tr>\n",
       "  </tbody>\n",
       "</table>\n",
       "<p>2128 rows × 3 columns</p>\n",
       "</div>"
      ],
      "text/plain": [
       "                   KO        MSFT        TSLA\n",
       "Date                                         \n",
       "2015-01-02  32.102886   40.620655   14.620667\n",
       "2015-01-05  32.102886   40.247131   14.006000\n",
       "2015-01-06  32.346664   39.656399   14.085333\n",
       "2015-01-07  32.750423   40.160244   14.063333\n",
       "2015-01-08  33.146564   41.341686   14.041333\n",
       "...               ...         ...         ...\n",
       "2023-06-09  60.012947  326.790009  244.399994\n",
       "2023-06-12  59.754910  331.850006  249.830002\n",
       "2023-06-13  59.993099  334.290009  258.709991\n",
       "2023-06-14  60.400002  337.339996  256.790009\n",
       "2023-06-15  61.230000  348.100006  255.899994\n",
       "\n",
       "[2128 rows x 3 columns]"
      ]
     },
     "execution_count": 3,
     "metadata": {},
     "output_type": "execute_result"
    }
   ],
   "source": [
    "df"
   ]
  },
  {
   "cell_type": "code",
   "execution_count": 4,
   "id": "49a54e82",
   "metadata": {},
   "outputs": [],
   "source": [
    "ret_df = df.pct_change()"
   ]
  },
  {
   "cell_type": "code",
   "execution_count": 5,
   "id": "a66a2abd",
   "metadata": {},
   "outputs": [
    {
     "data": {
      "text/html": [
       "<div>\n",
       "<style scoped>\n",
       "    .dataframe tbody tr th:only-of-type {\n",
       "        vertical-align: middle;\n",
       "    }\n",
       "\n",
       "    .dataframe tbody tr th {\n",
       "        vertical-align: top;\n",
       "    }\n",
       "\n",
       "    .dataframe thead th {\n",
       "        text-align: right;\n",
       "    }\n",
       "</style>\n",
       "<table border=\"1\" class=\"dataframe\">\n",
       "  <thead>\n",
       "    <tr style=\"text-align: right;\">\n",
       "      <th></th>\n",
       "      <th>KO</th>\n",
       "      <th>MSFT</th>\n",
       "      <th>TSLA</th>\n",
       "    </tr>\n",
       "    <tr>\n",
       "      <th>Date</th>\n",
       "      <th></th>\n",
       "      <th></th>\n",
       "      <th></th>\n",
       "    </tr>\n",
       "  </thead>\n",
       "  <tbody>\n",
       "    <tr>\n",
       "      <th>2015-01-02</th>\n",
       "      <td>NaN</td>\n",
       "      <td>NaN</td>\n",
       "      <td>NaN</td>\n",
       "    </tr>\n",
       "    <tr>\n",
       "      <th>2015-01-05</th>\n",
       "      <td>0.000000</td>\n",
       "      <td>-0.009195</td>\n",
       "      <td>-0.042041</td>\n",
       "    </tr>\n",
       "    <tr>\n",
       "      <th>2015-01-06</th>\n",
       "      <td>0.007594</td>\n",
       "      <td>-0.014678</td>\n",
       "      <td>0.005664</td>\n",
       "    </tr>\n",
       "    <tr>\n",
       "      <th>2015-01-07</th>\n",
       "      <td>0.012482</td>\n",
       "      <td>0.012705</td>\n",
       "      <td>-0.001562</td>\n",
       "    </tr>\n",
       "    <tr>\n",
       "      <th>2015-01-08</th>\n",
       "      <td>0.012096</td>\n",
       "      <td>0.029418</td>\n",
       "      <td>-0.001564</td>\n",
       "    </tr>\n",
       "    <tr>\n",
       "      <th>...</th>\n",
       "      <td>...</td>\n",
       "      <td>...</td>\n",
       "      <td>...</td>\n",
       "    </tr>\n",
       "    <tr>\n",
       "      <th>2023-06-09</th>\n",
       "      <td>0.001656</td>\n",
       "      <td>0.004704</td>\n",
       "      <td>0.040620</td>\n",
       "    </tr>\n",
       "    <tr>\n",
       "      <th>2023-06-12</th>\n",
       "      <td>-0.004300</td>\n",
       "      <td>0.015484</td>\n",
       "      <td>0.022218</td>\n",
       "    </tr>\n",
       "    <tr>\n",
       "      <th>2023-06-13</th>\n",
       "      <td>0.003986</td>\n",
       "      <td>0.007353</td>\n",
       "      <td>0.035544</td>\n",
       "    </tr>\n",
       "    <tr>\n",
       "      <th>2023-06-14</th>\n",
       "      <td>0.006782</td>\n",
       "      <td>0.009124</td>\n",
       "      <td>-0.007421</td>\n",
       "    </tr>\n",
       "    <tr>\n",
       "      <th>2023-06-15</th>\n",
       "      <td>0.013742</td>\n",
       "      <td>0.031897</td>\n",
       "      <td>-0.003466</td>\n",
       "    </tr>\n",
       "  </tbody>\n",
       "</table>\n",
       "<p>2128 rows × 3 columns</p>\n",
       "</div>"
      ],
      "text/plain": [
       "                  KO      MSFT      TSLA\n",
       "Date                                    \n",
       "2015-01-02       NaN       NaN       NaN\n",
       "2015-01-05  0.000000 -0.009195 -0.042041\n",
       "2015-01-06  0.007594 -0.014678  0.005664\n",
       "2015-01-07  0.012482  0.012705 -0.001562\n",
       "2015-01-08  0.012096  0.029418 -0.001564\n",
       "...              ...       ...       ...\n",
       "2023-06-09  0.001656  0.004704  0.040620\n",
       "2023-06-12 -0.004300  0.015484  0.022218\n",
       "2023-06-13  0.003986  0.007353  0.035544\n",
       "2023-06-14  0.006782  0.009124 -0.007421\n",
       "2023-06-15  0.013742  0.031897 -0.003466\n",
       "\n",
       "[2128 rows x 3 columns]"
      ]
     },
     "execution_count": 5,
     "metadata": {},
     "output_type": "execute_result"
    }
   ],
   "source": [
    "ret_df"
   ]
  },
  {
   "cell_type": "code",
   "execution_count": 6,
   "id": "3fab6f6b",
   "metadata": {
    "scrolled": false
   },
   "outputs": [],
   "source": [
    "ret_df.dropna(inplace=True)"
   ]
  },
  {
   "cell_type": "code",
   "execution_count": 7,
   "id": "479dd8ad",
   "metadata": {},
   "outputs": [
    {
     "data": {
      "text/html": [
       "<div>\n",
       "<style scoped>\n",
       "    .dataframe tbody tr th:only-of-type {\n",
       "        vertical-align: middle;\n",
       "    }\n",
       "\n",
       "    .dataframe tbody tr th {\n",
       "        vertical-align: top;\n",
       "    }\n",
       "\n",
       "    .dataframe thead th {\n",
       "        text-align: right;\n",
       "    }\n",
       "</style>\n",
       "<table border=\"1\" class=\"dataframe\">\n",
       "  <thead>\n",
       "    <tr style=\"text-align: right;\">\n",
       "      <th></th>\n",
       "      <th>KO</th>\n",
       "      <th>MSFT</th>\n",
       "      <th>TSLA</th>\n",
       "    </tr>\n",
       "    <tr>\n",
       "      <th>Date</th>\n",
       "      <th></th>\n",
       "      <th></th>\n",
       "      <th></th>\n",
       "    </tr>\n",
       "  </thead>\n",
       "  <tbody>\n",
       "    <tr>\n",
       "      <th>2015-01-05</th>\n",
       "      <td>0.000000</td>\n",
       "      <td>-0.009195</td>\n",
       "      <td>-0.042041</td>\n",
       "    </tr>\n",
       "    <tr>\n",
       "      <th>2015-01-06</th>\n",
       "      <td>0.007594</td>\n",
       "      <td>-0.023738</td>\n",
       "      <td>-0.036615</td>\n",
       "    </tr>\n",
       "    <tr>\n",
       "      <th>2015-01-07</th>\n",
       "      <td>0.020171</td>\n",
       "      <td>-0.011334</td>\n",
       "      <td>-0.038120</td>\n",
       "    </tr>\n",
       "    <tr>\n",
       "      <th>2015-01-08</th>\n",
       "      <td>0.032510</td>\n",
       "      <td>0.017750</td>\n",
       "      <td>-0.039624</td>\n",
       "    </tr>\n",
       "    <tr>\n",
       "      <th>2015-01-09</th>\n",
       "      <td>0.021120</td>\n",
       "      <td>0.009196</td>\n",
       "      <td>-0.057681</td>\n",
       "    </tr>\n",
       "    <tr>\n",
       "      <th>...</th>\n",
       "      <td>...</td>\n",
       "      <td>...</td>\n",
       "      <td>...</td>\n",
       "    </tr>\n",
       "    <tr>\n",
       "      <th>2023-06-09</th>\n",
       "      <td>0.869394</td>\n",
       "      <td>7.044922</td>\n",
       "      <td>15.716063</td>\n",
       "    </tr>\n",
       "    <tr>\n",
       "      <th>2023-06-12</th>\n",
       "      <td>0.861356</td>\n",
       "      <td>7.169489</td>\n",
       "      <td>16.087455</td>\n",
       "    </tr>\n",
       "    <tr>\n",
       "      <th>2023-06-13</th>\n",
       "      <td>0.868776</td>\n",
       "      <td>7.229557</td>\n",
       "      <td>16.694814</td>\n",
       "    </tr>\n",
       "    <tr>\n",
       "      <th>2023-06-14</th>\n",
       "      <td>0.881451</td>\n",
       "      <td>7.304642</td>\n",
       "      <td>16.563494</td>\n",
       "    </tr>\n",
       "    <tr>\n",
       "      <th>2023-06-15</th>\n",
       "      <td>0.907305</td>\n",
       "      <td>7.569532</td>\n",
       "      <td>16.502620</td>\n",
       "    </tr>\n",
       "  </tbody>\n",
       "</table>\n",
       "<p>2127 rows × 3 columns</p>\n",
       "</div>"
      ],
      "text/plain": [
       "                  KO      MSFT       TSLA\n",
       "Date                                     \n",
       "2015-01-05  0.000000 -0.009195  -0.042041\n",
       "2015-01-06  0.007594 -0.023738  -0.036615\n",
       "2015-01-07  0.020171 -0.011334  -0.038120\n",
       "2015-01-08  0.032510  0.017750  -0.039624\n",
       "2015-01-09  0.021120  0.009196  -0.057681\n",
       "...              ...       ...        ...\n",
       "2023-06-09  0.869394  7.044922  15.716063\n",
       "2023-06-12  0.861356  7.169489  16.087455\n",
       "2023-06-13  0.868776  7.229557  16.694814\n",
       "2023-06-14  0.881451  7.304642  16.563494\n",
       "2023-06-15  0.907305  7.569532  16.502620\n",
       "\n",
       "[2127 rows x 3 columns]"
      ]
     },
     "execution_count": 7,
     "metadata": {},
     "output_type": "execute_result"
    }
   ],
   "source": [
    "(ret_df + 1).cumprod() - 1"
   ]
  },
  {
   "cell_type": "code",
   "execution_count": 8,
   "id": "724be2fc",
   "metadata": {},
   "outputs": [
    {
     "data": {
      "text/plain": [
       "<AxesSubplot:xlabel='Date'>"
      ]
     },
     "execution_count": 8,
     "metadata": {},
     "output_type": "execute_result"
    },
    {
     "data": {
      "image/png": "[encoded data removed]",
      "text/plain": [
       "<Figure size 640x480 with 1 Axes>"
      ]
     },
     "metadata": {},
     "output_type": "display_data"
    }
   ],
   "source": [
    "((ret_df + 1).cumprod() - 1).plot()"
   ]
  },
  {
   "cell_type": "code",
   "execution_count": 9,
   "id": "3c7cb18d",
   "metadata": {
    "scrolled": false
   },
   "outputs": [
    {
     "data": {
      "text/plain": [
       "KO      0.000372\n",
       "MSFT    0.001168\n",
       "TSLA    0.001987\n",
       "dtype: float64"
      ]
     },
     "execution_count": 9,
     "metadata": {},
     "output_type": "execute_result"
    }
   ],
   "source": [
    "ret_df.mean()"
   ]
  },
  {
   "cell_type": "code",
   "execution_count": 10,
   "id": "702132d5",
   "metadata": {
    "scrolled": true
   },
   "outputs": [
    {
     "data": {
      "text/plain": [
       "KO      0.011649\n",
       "MSFT    0.017759\n",
       "TSLA    0.035838\n",
       "dtype: float64"
      ]
     },
     "execution_count": 10,
     "metadata": {},
     "output_type": "execute_result"
    }
   ],
   "source": [
    "ret_df.std()"
   ]
  },
  {
   "cell_type": "code",
   "execution_count": 11,
   "id": "890ef19d",
   "metadata": {
    "scrolled": true
   },
   "outputs": [
    {
     "data": {
      "text/html": [
       "<div>\n",
       "<style scoped>\n",
       "    .dataframe tbody tr th:only-of-type {\n",
       "        vertical-align: middle;\n",
       "    }\n",
       "\n",
       "    .dataframe tbody tr th {\n",
       "        vertical-align: top;\n",
       "    }\n",
       "\n",
       "    .dataframe thead th {\n",
       "        text-align: right;\n",
       "    }\n",
       "</style>\n",
       "<table border=\"1\" class=\"dataframe\">\n",
       "  <thead>\n",
       "    <tr style=\"text-align: right;\">\n",
       "      <th></th>\n",
       "      <th>KO</th>\n",
       "      <th>MSFT</th>\n",
       "      <th>TSLA</th>\n",
       "    </tr>\n",
       "  </thead>\n",
       "  <tbody>\n",
       "    <tr>\n",
       "      <th>KO</th>\n",
       "      <td>0.000136</td>\n",
       "      <td>0.000090</td>\n",
       "      <td>0.000078</td>\n",
       "    </tr>\n",
       "    <tr>\n",
       "      <th>MSFT</th>\n",
       "      <td>0.000090</td>\n",
       "      <td>0.000315</td>\n",
       "      <td>0.000264</td>\n",
       "    </tr>\n",
       "    <tr>\n",
       "      <th>TSLA</th>\n",
       "      <td>0.000078</td>\n",
       "      <td>0.000264</td>\n",
       "      <td>0.001284</td>\n",
       "    </tr>\n",
       "  </tbody>\n",
       "</table>\n",
       "</div>"
      ],
      "text/plain": [
       "            KO      MSFT      TSLA\n",
       "KO    0.000136  0.000090  0.000078\n",
       "MSFT  0.000090  0.000315  0.000264\n",
       "TSLA  0.000078  0.000264  0.001284"
      ]
     },
     "execution_count": 11,
     "metadata": {},
     "output_type": "execute_result"
    }
   ],
   "source": [
    "ret_df.cov()"
   ]
  },
  {
   "cell_type": "code",
   "execution_count": 12,
   "id": "3026fa23",
   "metadata": {
    "scrolled": true
   },
   "outputs": [
    {
     "data": {
      "text/html": [
       "<div>\n",
       "<style scoped>\n",
       "    .dataframe tbody tr th:only-of-type {\n",
       "        vertical-align: middle;\n",
       "    }\n",
       "\n",
       "    .dataframe tbody tr th {\n",
       "        vertical-align: top;\n",
       "    }\n",
       "\n",
       "    .dataframe thead th {\n",
       "        text-align: right;\n",
       "    }\n",
       "</style>\n",
       "<table border=\"1\" class=\"dataframe\">\n",
       "  <thead>\n",
       "    <tr style=\"text-align: right;\">\n",
       "      <th></th>\n",
       "      <th>KO</th>\n",
       "      <th>MSFT</th>\n",
       "      <th>TSLA</th>\n",
       "    </tr>\n",
       "  </thead>\n",
       "  <tbody>\n",
       "    <tr>\n",
       "      <th>KO</th>\n",
       "      <td>1.000000</td>\n",
       "      <td>0.433855</td>\n",
       "      <td>0.185887</td>\n",
       "    </tr>\n",
       "    <tr>\n",
       "      <th>MSFT</th>\n",
       "      <td>0.433855</td>\n",
       "      <td>1.000000</td>\n",
       "      <td>0.414323</td>\n",
       "    </tr>\n",
       "    <tr>\n",
       "      <th>TSLA</th>\n",
       "      <td>0.185887</td>\n",
       "      <td>0.414323</td>\n",
       "      <td>1.000000</td>\n",
       "    </tr>\n",
       "  </tbody>\n",
       "</table>\n",
       "</div>"
      ],
      "text/plain": [
       "            KO      MSFT      TSLA\n",
       "KO    1.000000  0.433855  0.185887\n",
       "MSFT  0.433855  1.000000  0.414323\n",
       "TSLA  0.185887  0.414323  1.000000"
      ]
     },
     "execution_count": 12,
     "metadata": {},
     "output_type": "execute_result"
    }
   ],
   "source": [
    "ret_df.corr()"
   ]
  },
  {
   "cell_type": "code",
   "execution_count": 13,
   "id": "83ed2202",
   "metadata": {},
   "outputs": [],
   "source": [
    "W = np.ones(len(ret_df.columns))/len(ret_df.columns)"
   ]
  },
  {
   "cell_type": "code",
   "execution_count": 14,
   "id": "347c89c6",
   "metadata": {},
   "outputs": [
    {
     "data": {
      "text/plain": [
       "array([0.33333333, 0.33333333, 0.33333333])"
      ]
     },
     "execution_count": 14,
     "metadata": {},
     "output_type": "execute_result"
    }
   ],
   "source": [
    "W"
   ]
  },
  {
   "cell_type": "code",
   "execution_count": 15,
   "id": "a8553f6a",
   "metadata": {
    "scrolled": true
   },
   "outputs": [],
   "source": [
    "pf_exp = W.dot(ret_df.mean())"
   ]
  },
  {
   "cell_type": "code",
   "execution_count": 16,
   "id": "a6119c27",
   "metadata": {},
   "outputs": [],
   "source": [
    "pf_std = (W.dot(ret_df.cov().dot(W)))**(1/2)"
   ]
  },
  {
   "cell_type": "code",
   "execution_count": 17,
   "id": "143518d2",
   "metadata": {},
   "outputs": [
    {
     "data": {
      "text/plain": [
       "0.0011757301766133314"
      ]
     },
     "execution_count": 17,
     "metadata": {},
     "output_type": "execute_result"
    }
   ],
   "source": [
    "pf_exp"
   ]
  },
  {
   "cell_type": "code",
   "execution_count": 18,
   "id": "4427b825",
   "metadata": {},
   "outputs": [
    {
     "data": {
      "text/plain": [
       "0.016988709439505874"
      ]
     },
     "execution_count": 18,
     "metadata": {},
     "output_type": "execute_result"
    }
   ],
   "source": [
    "pf_std"
   ]
  },
  {
   "cell_type": "code",
   "execution_count": 19,
   "id": "be2ff17b",
   "metadata": {
    "scrolled": true
   },
   "outputs": [
    {
     "data": {
      "text/plain": [
       "KO      0.000372\n",
       "MSFT    0.001168\n",
       "TSLA    0.001987\n",
       "dtype: float64"
      ]
     },
     "execution_count": 19,
     "metadata": {},
     "output_type": "execute_result"
    }
   ],
   "source": [
    "ret_df.mean()"
   ]
  },
  {
   "cell_type": "code",
   "execution_count": 20,
   "id": "791dd3b4",
   "metadata": {},
   "outputs": [
    {
     "data": {
      "text/plain": [
       "KO      0.011649\n",
       "MSFT    0.017759\n",
       "TSLA    0.035838\n",
       "dtype: float64"
      ]
     },
     "execution_count": 20,
     "metadata": {},
     "output_type": "execute_result"
    }
   ],
   "source": [
    "ret_df.std()"
   ]
  },
  {
   "cell_type": "code",
   "execution_count": 21,
   "id": "2c0bdf40",
   "metadata": {},
   "outputs": [
    {
     "data": {
      "text/plain": [
       "0.06920656220532359"
      ]
     },
     "execution_count": 21,
     "metadata": {},
     "output_type": "execute_result"
    }
   ],
   "source": [
    "pf_exp/pf_std\n",
    "#sharpe ratio of the portfolio"
   ]
  },
  {
   "cell_type": "code",
   "execution_count": 22,
   "id": "10b7f183",
   "metadata": {
    "scrolled": false
   },
   "outputs": [
    {
     "data": {
      "text/plain": [
       "KO      0.031921\n",
       "MSFT    0.065767\n",
       "TSLA    0.055455\n",
       "dtype: float64"
      ]
     },
     "execution_count": 22,
     "metadata": {},
     "output_type": "execute_result"
    }
   ],
   "source": [
    "ret_df.mean()/ret_df.std()\n",
    "#Sharpe ratios of the components"
   ]
  },
  {
   "cell_type": "code",
   "execution_count": 23,
   "id": "93766eeb",
   "metadata": {},
   "outputs": [
    {
     "data": {
      "text/html": [
       "<div>\n",
       "<style scoped>\n",
       "    .dataframe tbody tr th:only-of-type {\n",
       "        vertical-align: middle;\n",
       "    }\n",
       "\n",
       "    .dataframe tbody tr th {\n",
       "        vertical-align: top;\n",
       "    }\n",
       "\n",
       "    .dataframe thead th {\n",
       "        text-align: right;\n",
       "    }\n",
       "</style>\n",
       "<table border=\"1\" class=\"dataframe\">\n",
       "  <thead>\n",
       "    <tr style=\"text-align: right;\">\n",
       "      <th></th>\n",
       "      <th>KO</th>\n",
       "      <th>MSFT</th>\n",
       "      <th>TSLA</th>\n",
       "    </tr>\n",
       "    <tr>\n",
       "      <th>Date</th>\n",
       "      <th></th>\n",
       "      <th></th>\n",
       "      <th></th>\n",
       "    </tr>\n",
       "  </thead>\n",
       "  <tbody>\n",
       "    <tr>\n",
       "      <th>2015-01-05</th>\n",
       "      <td>0.000000</td>\n",
       "      <td>-0.009195</td>\n",
       "      <td>-0.042041</td>\n",
       "    </tr>\n",
       "    <tr>\n",
       "      <th>2015-01-06</th>\n",
       "      <td>0.007594</td>\n",
       "      <td>-0.014678</td>\n",
       "      <td>0.005664</td>\n",
       "    </tr>\n",
       "    <tr>\n",
       "      <th>2015-01-07</th>\n",
       "      <td>0.012482</td>\n",
       "      <td>0.012705</td>\n",
       "      <td>-0.001562</td>\n",
       "    </tr>\n",
       "    <tr>\n",
       "      <th>2015-01-08</th>\n",
       "      <td>0.012096</td>\n",
       "      <td>0.029418</td>\n",
       "      <td>-0.001564</td>\n",
       "    </tr>\n",
       "    <tr>\n",
       "      <th>2015-01-09</th>\n",
       "      <td>-0.011032</td>\n",
       "      <td>-0.008405</td>\n",
       "      <td>-0.018802</td>\n",
       "    </tr>\n",
       "    <tr>\n",
       "      <th>...</th>\n",
       "      <td>...</td>\n",
       "      <td>...</td>\n",
       "      <td>...</td>\n",
       "    </tr>\n",
       "    <tr>\n",
       "      <th>2023-06-09</th>\n",
       "      <td>0.001656</td>\n",
       "      <td>0.004704</td>\n",
       "      <td>0.040620</td>\n",
       "    </tr>\n",
       "    <tr>\n",
       "      <th>2023-06-12</th>\n",
       "      <td>-0.004300</td>\n",
       "      <td>0.015484</td>\n",
       "      <td>0.022218</td>\n",
       "    </tr>\n",
       "    <tr>\n",
       "      <th>2023-06-13</th>\n",
       "      <td>0.003986</td>\n",
       "      <td>0.007353</td>\n",
       "      <td>0.035544</td>\n",
       "    </tr>\n",
       "    <tr>\n",
       "      <th>2023-06-14</th>\n",
       "      <td>0.006782</td>\n",
       "      <td>0.009124</td>\n",
       "      <td>-0.007421</td>\n",
       "    </tr>\n",
       "    <tr>\n",
       "      <th>2023-06-15</th>\n",
       "      <td>0.013742</td>\n",
       "      <td>0.031897</td>\n",
       "      <td>-0.003466</td>\n",
       "    </tr>\n",
       "  </tbody>\n",
       "</table>\n",
       "<p>2127 rows × 3 columns</p>\n",
       "</div>"
      ],
      "text/plain": [
       "                  KO      MSFT      TSLA\n",
       "Date                                    \n",
       "2015-01-05  0.000000 -0.009195 -0.042041\n",
       "2015-01-06  0.007594 -0.014678  0.005664\n",
       "2015-01-07  0.012482  0.012705 -0.001562\n",
       "2015-01-08  0.012096  0.029418 -0.001564\n",
       "2015-01-09 -0.011032 -0.008405 -0.018802\n",
       "...              ...       ...       ...\n",
       "2023-06-09  0.001656  0.004704  0.040620\n",
       "2023-06-12 -0.004300  0.015484  0.022218\n",
       "2023-06-13  0.003986  0.007353  0.035544\n",
       "2023-06-14  0.006782  0.009124 -0.007421\n",
       "2023-06-15  0.013742  0.031897 -0.003466\n",
       "\n",
       "[2127 rows x 3 columns]"
      ]
     },
     "execution_count": 23,
     "metadata": {},
     "output_type": "execute_result"
    }
   ],
   "source": [
    "ret_df"
   ]
  },
  {
   "cell_type": "code",
   "execution_count": 24,
   "id": "ed73cb9a",
   "metadata": {
    "scrolled": true
   },
   "outputs": [
    {
     "data": {
      "text/plain": [
       "Date\n",
       "2015-01-05   -0.017079\n",
       "2015-01-06   -0.000473\n",
       "2015-01-07    0.007875\n",
       "2015-01-08    0.013317\n",
       "2015-01-09   -0.012746\n",
       "                ...   \n",
       "2023-06-09    0.015660\n",
       "2023-06-12    0.011134\n",
       "2023-06-13    0.015628\n",
       "2023-06-14    0.002828\n",
       "2023-06-15    0.014057\n",
       "Length: 2127, dtype: float64"
      ]
     },
     "execution_count": 24,
     "metadata": {},
     "output_type": "execute_result"
    }
   ],
   "source": [
    "ret_df.mean(axis=1)"
   ]
  },
  {
   "cell_type": "code",
   "execution_count": 25,
   "id": "0ff0de1d",
   "metadata": {},
   "outputs": [
    {
     "data": {
      "text/plain": [
       "Date\n",
       "2015-01-05   -0.017079\n",
       "2015-01-06   -0.017544\n",
       "2015-01-07   -0.009807\n",
       "2015-01-08    0.003379\n",
       "2015-01-09   -0.009410\n",
       "                ...   \n",
       "2023-06-09    7.569672\n",
       "2023-06-12    7.665086\n",
       "2023-06-13    7.800501\n",
       "2023-06-14    7.825392\n",
       "2023-06-15    7.949454\n",
       "Length: 2127, dtype: float64"
      ]
     },
     "execution_count": 25,
     "metadata": {},
     "output_type": "execute_result"
    }
   ],
   "source": [
    "(ret_df.mean(axis=1) + 1).cumprod() - 1"
   ]
  },
  {
   "cell_type": "code",
   "execution_count": 26,
   "id": "a84d5f1d",
   "metadata": {},
   "outputs": [
    {
     "data": {
      "text/plain": [
       "<AxesSubplot:xlabel='Date'>"
      ]
     },
     "execution_count": 26,
     "metadata": {},
     "output_type": "execute_result"
    },
    {
     "data": {
      "image/png": "[encoded data removed]",
      "text/plain": [
       "<Figure size 640x480 with 1 Axes>"
      ]
     },
     "metadata": {},
     "output_type": "display_data"
    }
   ],
   "source": [
    "((ret_df.mean(axis=1) + 1).cumprod() - 1).plot()"
   ]
  },
  {
   "cell_type": "code",
   "execution_count": null,
   "id": "1355c264",
   "metadata": {},
   "outputs": [],
   "source": []
  }
 ],
 "metadata": {
  "kernelspec": {
   "display_name": "Python 3 (ipykernel)",
   "language": "python",
   "name": "python3"
  },
  "language_info": {
   "codemirror_mode": {
    "name": "ipython",
    "version": 3
   },
   "file_extension": ".py",
   "mimetype": "text/x-python",
   "name": "python",
   "nbconvert_exporter": "python",
   "pygments_lexer": "ipython3",
   "version": "3.9.13"
  }
 },
 "nbformat": 4,
 "nbformat_minor": 5
}
