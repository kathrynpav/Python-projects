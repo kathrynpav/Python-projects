{
 "cells": [
  {
   "cell_type": "code",
   "execution_count": 1,
   "id": "94382786",
   "metadata": {},
   "outputs": [],
   "source": [
    "import pandas as pd\n",
    "import yfinance as yf"
   ]
  },
  {
   "cell_type": "code",
   "execution_count": 2,
   "id": "18cef959",
   "metadata": {},
   "outputs": [
    {
     "name": "stdout",
     "output_type": "stream",
     "text": [
      "[*********************100%***********************]  1 of 1 completed\n"
     ]
    }
   ],
   "source": [
    "df = yf.download('^GSPC',start='2015-01-01')"
   ]
  },
  {
   "cell_type": "code",
   "execution_count": 3,
   "id": "1ad5078d",
   "metadata": {},
   "outputs": [
    {
     "data": {
      "text/html": [
       "<div>\n",
       "<style scoped>\n",
       "    .dataframe tbody tr th:only-of-type {\n",
       "        vertical-align: middle;\n",
       "    }\n",
       "\n",
       "    .dataframe tbody tr th {\n",
       "        vertical-align: top;\n",
       "    }\n",
       "\n",
       "    .dataframe thead th {\n",
       "        text-align: right;\n",
       "    }\n",
       "</style>\n",
       "<table border=\"1\" class=\"dataframe\">\n",
       "  <thead>\n",
       "    <tr style=\"text-align: right;\">\n",
       "      <th></th>\n",
       "      <th>Open</th>\n",
       "      <th>High</th>\n",
       "      <th>Low</th>\n",
       "      <th>Close</th>\n",
       "      <th>Adj Close</th>\n",
       "      <th>Volume</th>\n",
       "    </tr>\n",
       "    <tr>\n",
       "      <th>Date</th>\n",
       "      <th></th>\n",
       "      <th></th>\n",
       "      <th></th>\n",
       "      <th></th>\n",
       "      <th></th>\n",
       "      <th></th>\n",
       "    </tr>\n",
       "  </thead>\n",
       "  <tbody>\n",
       "    <tr>\n",
       "      <th>2015-01-02</th>\n",
       "      <td>2058.899902</td>\n",
       "      <td>2072.360107</td>\n",
       "      <td>2046.040039</td>\n",
       "      <td>2058.199951</td>\n",
       "      <td>2058.199951</td>\n",
       "      <td>2708700000</td>\n",
       "    </tr>\n",
       "    <tr>\n",
       "      <th>2015-01-05</th>\n",
       "      <td>2054.439941</td>\n",
       "      <td>2054.439941</td>\n",
       "      <td>2017.339966</td>\n",
       "      <td>2020.579956</td>\n",
       "      <td>2020.579956</td>\n",
       "      <td>3799120000</td>\n",
       "    </tr>\n",
       "    <tr>\n",
       "      <th>2015-01-06</th>\n",
       "      <td>2022.150024</td>\n",
       "      <td>2030.250000</td>\n",
       "      <td>1992.439941</td>\n",
       "      <td>2002.609985</td>\n",
       "      <td>2002.609985</td>\n",
       "      <td>4460110000</td>\n",
       "    </tr>\n",
       "    <tr>\n",
       "      <th>2015-01-07</th>\n",
       "      <td>2005.550049</td>\n",
       "      <td>2029.609985</td>\n",
       "      <td>2005.550049</td>\n",
       "      <td>2025.900024</td>\n",
       "      <td>2025.900024</td>\n",
       "      <td>3805480000</td>\n",
       "    </tr>\n",
       "    <tr>\n",
       "      <th>2015-01-08</th>\n",
       "      <td>2030.609985</td>\n",
       "      <td>2064.080078</td>\n",
       "      <td>2030.609985</td>\n",
       "      <td>2062.139893</td>\n",
       "      <td>2062.139893</td>\n",
       "      <td>3934010000</td>\n",
       "    </tr>\n",
       "    <tr>\n",
       "      <th>...</th>\n",
       "      <td>...</td>\n",
       "      <td>...</td>\n",
       "      <td>...</td>\n",
       "      <td>...</td>\n",
       "      <td>...</td>\n",
       "      <td>...</td>\n",
       "    </tr>\n",
       "    <tr>\n",
       "      <th>2023-06-12</th>\n",
       "      <td>4308.319824</td>\n",
       "      <td>4340.129883</td>\n",
       "      <td>4304.370117</td>\n",
       "      <td>4338.930176</td>\n",
       "      <td>4338.930176</td>\n",
       "      <td>3945670000</td>\n",
       "    </tr>\n",
       "    <tr>\n",
       "      <th>2023-06-13</th>\n",
       "      <td>4352.609863</td>\n",
       "      <td>4375.370117</td>\n",
       "      <td>4349.310059</td>\n",
       "      <td>4369.009766</td>\n",
       "      <td>4369.009766</td>\n",
       "      <td>4275400000</td>\n",
       "    </tr>\n",
       "    <tr>\n",
       "      <th>2023-06-14</th>\n",
       "      <td>4366.290039</td>\n",
       "      <td>4391.819824</td>\n",
       "      <td>4337.850098</td>\n",
       "      <td>4372.589844</td>\n",
       "      <td>4372.589844</td>\n",
       "      <td>4252110000</td>\n",
       "    </tr>\n",
       "    <tr>\n",
       "      <th>2023-06-15</th>\n",
       "      <td>4365.330078</td>\n",
       "      <td>4439.200195</td>\n",
       "      <td>4362.600098</td>\n",
       "      <td>4425.839844</td>\n",
       "      <td>4425.839844</td>\n",
       "      <td>4176690000</td>\n",
       "    </tr>\n",
       "    <tr>\n",
       "      <th>2023-06-16</th>\n",
       "      <td>4440.950195</td>\n",
       "      <td>4448.470215</td>\n",
       "      <td>4407.439941</td>\n",
       "      <td>4409.589844</td>\n",
       "      <td>4409.589844</td>\n",
       "      <td>6848600000</td>\n",
       "    </tr>\n",
       "  </tbody>\n",
       "</table>\n",
       "<p>2129 rows × 6 columns</p>\n",
       "</div>"
      ],
      "text/plain": [
       "                   Open         High          Low        Close    Adj Close  \\\n",
       "Date                                                                          \n",
       "2015-01-02  2058.899902  2072.360107  2046.040039  2058.199951  2058.199951   \n",
       "2015-01-05  2054.439941  2054.439941  2017.339966  2020.579956  2020.579956   \n",
       "2015-01-06  2022.150024  2030.250000  1992.439941  2002.609985  2002.609985   \n",
       "2015-01-07  2005.550049  2029.609985  2005.550049  2025.900024  2025.900024   \n",
       "2015-01-08  2030.609985  2064.080078  2030.609985  2062.139893  2062.139893   \n",
       "...                 ...          ...          ...          ...          ...   \n",
       "2023-06-12  4308.319824  4340.129883  4304.370117  4338.930176  4338.930176   \n",
       "2023-06-13  4352.609863  4375.370117  4349.310059  4369.009766  4369.009766   \n",
       "2023-06-14  4366.290039  4391.819824  4337.850098  4372.589844  4372.589844   \n",
       "2023-06-15  4365.330078  4439.200195  4362.600098  4425.839844  4425.839844   \n",
       "2023-06-16  4440.950195  4448.470215  4407.439941  4409.589844  4409.589844   \n",
       "\n",
       "                Volume  \n",
       "Date                    \n",
       "2015-01-02  2708700000  \n",
       "2015-01-05  3799120000  \n",
       "2015-01-06  4460110000  \n",
       "2015-01-07  3805480000  \n",
       "2015-01-08  3934010000  \n",
       "...                ...  \n",
       "2023-06-12  3945670000  \n",
       "2023-06-13  4275400000  \n",
       "2023-06-14  4252110000  \n",
       "2023-06-15  4176690000  \n",
       "2023-06-16  6848600000  \n",
       "\n",
       "[2129 rows x 6 columns]"
      ]
     },
     "execution_count": 3,
     "metadata": {},
     "output_type": "execute_result"
    }
   ],
   "source": [
    "df"
   ]
  },
  {
   "cell_type": "code",
   "execution_count": 4,
   "id": "86711a22",
   "metadata": {},
   "outputs": [],
   "source": [
    "df['MA100'] = df.Close.rolling(100).mean()"
   ]
  },
  {
   "cell_type": "code",
   "execution_count": 5,
   "id": "f6425580",
   "metadata": {},
   "outputs": [],
   "source": [
    "df.dropna(inplace=True)"
   ]
  },
  {
   "cell_type": "code",
   "execution_count": 6,
   "id": "724714ee",
   "metadata": {},
   "outputs": [],
   "source": [
    "df['price'] = df.Open.shift(-1)"
   ]
  },
  {
   "cell_type": "code",
   "execution_count": 7,
   "id": "a3498838",
   "metadata": {
    "scrolled": true
   },
   "outputs": [
    {
     "data": {
      "text/plain": [
       "Date\n",
       "2015-05-27    True\n",
       "2015-05-28    True\n",
       "2015-05-29    True\n",
       "2015-06-01    True\n",
       "2015-06-02    True\n",
       "              ... \n",
       "2023-06-12    True\n",
       "2023-06-13    True\n",
       "2023-06-14    True\n",
       "2023-06-15    True\n",
       "2023-06-16    True\n",
       "Length: 2030, dtype: bool"
      ]
     },
     "execution_count": 7,
     "metadata": {},
     "output_type": "execute_result"
    }
   ],
   "source": [
    "(df.Close > df.MA100)"
   ]
  },
  {
   "cell_type": "code",
   "execution_count": 8,
   "id": "b96ec4fe",
   "metadata": {
    "scrolled": true
   },
   "outputs": [
    {
     "data": {
      "text/plain": [
       "Timestamp('2015-05-27 00:00:00')"
      ]
     },
     "execution_count": 8,
     "metadata": {},
     "output_type": "execute_result"
    }
   ],
   "source": [
    "(df.Close > df.MA100).idxmax()"
   ]
  },
  {
   "cell_type": "code",
   "execution_count": 9,
   "id": "74cc7f55",
   "metadata": {
    "scrolled": false
   },
   "outputs": [
    {
     "data": {
      "text/plain": [
       "array([ True, False, False, ..., False, False, False])"
      ]
     },
     "execution_count": 9,
     "metadata": {},
     "output_type": "execute_result"
    }
   ],
   "source": [
    "df.index == (df.Close > df.MA100).idxmax()"
   ]
  },
  {
   "cell_type": "code",
   "execution_count": 10,
   "id": "9c834e88",
   "metadata": {},
   "outputs": [
    {
     "data": {
      "text/plain": [
       "Date\n",
       "2015-05-27     True\n",
       "2015-05-28    False\n",
       "2015-05-29    False\n",
       "2015-06-01    False\n",
       "2015-06-02    False\n",
       "              ...  \n",
       "2023-06-12    False\n",
       "2023-06-13    False\n",
       "2023-06-14    False\n",
       "2023-06-15    False\n",
       "2023-06-16    False\n",
       "Length: 2030, dtype: bool"
      ]
     },
     "execution_count": 10,
     "metadata": {},
     "output_type": "execute_result"
    }
   ],
   "source": [
    "pd.Series(df.index == (df.Close > df.MA100).idxmax(),index=df.index)"
   ]
  },
  {
   "cell_type": "code",
   "execution_count": 11,
   "id": "50025cd3",
   "metadata": {
    "scrolled": false
   },
   "outputs": [],
   "source": [
    "first_buy = pd.Series(df.index == (df.Close > df.MA100).idxmax(),index=df.index)"
   ]
  },
  {
   "cell_type": "code",
   "execution_count": 12,
   "id": "506faefe",
   "metadata": {
    "scrolled": false
   },
   "outputs": [
    {
     "data": {
      "text/plain": [
       "Date\n",
       "2015-05-27     True\n",
       "2015-05-28    False\n",
       "2015-05-29    False\n",
       "2015-06-01    False\n",
       "2015-06-02    False\n",
       "              ...  \n",
       "2023-06-12    False\n",
       "2023-06-13    False\n",
       "2023-06-14    False\n",
       "2023-06-15    False\n",
       "2023-06-16    False\n",
       "Length: 2030, dtype: bool"
      ]
     },
     "execution_count": 12,
     "metadata": {},
     "output_type": "execute_result"
    }
   ],
   "source": [
    "first_buy"
   ]
  },
  {
   "cell_type": "code",
   "execution_count": 13,
   "id": "16c557b1",
   "metadata": {
    "scrolled": true
   },
   "outputs": [
    {
     "data": {
      "text/plain": [
       "Date\n",
       "2015-05-27    True\n",
       "2015-05-28    True\n",
       "2015-05-29    True\n",
       "2015-06-01    True\n",
       "2015-06-02    True\n",
       "              ... \n",
       "2023-06-12    True\n",
       "2023-06-13    True\n",
       "2023-06-14    True\n",
       "2023-06-15    True\n",
       "2023-06-16    True\n",
       "Length: 2030, dtype: bool"
      ]
     },
     "execution_count": 13,
     "metadata": {},
     "output_type": "execute_result"
    }
   ],
   "source": [
    "(df.Close > df.MA100)"
   ]
  },
  {
   "cell_type": "code",
   "execution_count": 14,
   "id": "158ac6a3",
   "metadata": {
    "scrolled": false
   },
   "outputs": [
    {
     "data": {
      "text/plain": [
       "Date\n",
       "2015-05-27      NaN\n",
       "2015-05-28    False\n",
       "2015-05-29    False\n",
       "2015-06-01    False\n",
       "2015-06-02    False\n",
       "              ...  \n",
       "2023-06-12    False\n",
       "2023-06-13    False\n",
       "2023-06-14    False\n",
       "2023-06-15    False\n",
       "2023-06-16    False\n",
       "Length: 2030, dtype: object"
      ]
     },
     "execution_count": 14,
     "metadata": {},
     "output_type": "execute_result"
    }
   ],
   "source": [
    "(df.Close > df.MA100).diff()"
   ]
  },
  {
   "cell_type": "code",
   "execution_count": 15,
   "id": "ccd14cdb",
   "metadata": {},
   "outputs": [
    {
     "data": {
      "text/plain": [
       "Date\n",
       "2015-05-27     True\n",
       "2015-05-28    False\n",
       "2015-05-29    False\n",
       "2015-06-01    False\n",
       "2015-06-02    False\n",
       "              ...  \n",
       "2023-06-12    False\n",
       "2023-06-13    False\n",
       "2023-06-14    False\n",
       "2023-06-15    False\n",
       "2023-06-16    False\n",
       "Length: 2030, dtype: bool"
      ]
     },
     "execution_count": 15,
     "metadata": {},
     "output_type": "execute_result"
    }
   ],
   "source": [
    "first_buy | (df.Close > df.MA100).diff()"
   ]
  },
  {
   "cell_type": "code",
   "execution_count": 16,
   "id": "35c3fe3a",
   "metadata": {},
   "outputs": [
    {
     "data": {
      "text/html": [
       "<div>\n",
       "<style scoped>\n",
       "    .dataframe tbody tr th:only-of-type {\n",
       "        vertical-align: middle;\n",
       "    }\n",
       "\n",
       "    .dataframe tbody tr th {\n",
       "        vertical-align: top;\n",
       "    }\n",
       "\n",
       "    .dataframe thead th {\n",
       "        text-align: right;\n",
       "    }\n",
       "</style>\n",
       "<table border=\"1\" class=\"dataframe\">\n",
       "  <thead>\n",
       "    <tr style=\"text-align: right;\">\n",
       "      <th></th>\n",
       "      <th>Open</th>\n",
       "      <th>High</th>\n",
       "      <th>Low</th>\n",
       "      <th>Close</th>\n",
       "      <th>Adj Close</th>\n",
       "      <th>Volume</th>\n",
       "      <th>MA100</th>\n",
       "      <th>price</th>\n",
       "    </tr>\n",
       "    <tr>\n",
       "      <th>Date</th>\n",
       "      <th></th>\n",
       "      <th></th>\n",
       "      <th></th>\n",
       "      <th></th>\n",
       "      <th></th>\n",
       "      <th></th>\n",
       "      <th></th>\n",
       "      <th></th>\n",
       "    </tr>\n",
       "  </thead>\n",
       "  <tbody>\n",
       "    <tr>\n",
       "      <th>2015-05-27</th>\n",
       "      <td>2105.129883</td>\n",
       "      <td>2126.219971</td>\n",
       "      <td>2105.129883</td>\n",
       "      <td>2123.479980</td>\n",
       "      <td>2123.479980</td>\n",
       "      <td>3127960000</td>\n",
       "      <td>2078.878900</td>\n",
       "      <td>2122.270020</td>\n",
       "    </tr>\n",
       "    <tr>\n",
       "      <th>2015-06-08</th>\n",
       "      <td>2092.340088</td>\n",
       "      <td>2093.010010</td>\n",
       "      <td>2079.110107</td>\n",
       "      <td>2079.280029</td>\n",
       "      <td>2079.280029</td>\n",
       "      <td>2917150000</td>\n",
       "      <td>2084.538904</td>\n",
       "      <td>2079.070068</td>\n",
       "    </tr>\n",
       "    <tr>\n",
       "      <th>2015-06-10</th>\n",
       "      <td>2081.120117</td>\n",
       "      <td>2108.500000</td>\n",
       "      <td>2081.120117</td>\n",
       "      <td>2105.199951</td>\n",
       "      <td>2105.199951</td>\n",
       "      <td>3414320000</td>\n",
       "      <td>2086.353002</td>\n",
       "      <td>2106.239990</td>\n",
       "    </tr>\n",
       "    <tr>\n",
       "      <th>2015-06-15</th>\n",
       "      <td>2091.340088</td>\n",
       "      <td>2091.340088</td>\n",
       "      <td>2072.489990</td>\n",
       "      <td>2084.429932</td>\n",
       "      <td>2084.429932</td>\n",
       "      <td>3061570000</td>\n",
       "      <td>2088.486102</td>\n",
       "      <td>2084.260010</td>\n",
       "    </tr>\n",
       "    <tr>\n",
       "      <th>2015-06-16</th>\n",
       "      <td>2084.260010</td>\n",
       "      <td>2097.399902</td>\n",
       "      <td>2082.100098</td>\n",
       "      <td>2096.290039</td>\n",
       "      <td>2096.290039</td>\n",
       "      <td>2919900000</td>\n",
       "      <td>2088.817504</td>\n",
       "      <td>2097.399902</td>\n",
       "    </tr>\n",
       "    <tr>\n",
       "      <th>...</th>\n",
       "      <td>...</td>\n",
       "      <td>...</td>\n",
       "      <td>...</td>\n",
       "      <td>...</td>\n",
       "      <td>...</td>\n",
       "      <td>...</td>\n",
       "      <td>...</td>\n",
       "      <td>...</td>\n",
       "    </tr>\n",
       "    <tr>\n",
       "      <th>2023-03-16</th>\n",
       "      <td>3878.929932</td>\n",
       "      <td>3964.459961</td>\n",
       "      <td>3864.110107</td>\n",
       "      <td>3960.280029</td>\n",
       "      <td>3960.280029</td>\n",
       "      <td>5695790000</td>\n",
       "      <td>3953.868914</td>\n",
       "      <td>3958.689941</td>\n",
       "    </tr>\n",
       "    <tr>\n",
       "      <th>2023-03-17</th>\n",
       "      <td>3958.689941</td>\n",
       "      <td>3958.909912</td>\n",
       "      <td>3901.270020</td>\n",
       "      <td>3916.639893</td>\n",
       "      <td>3916.639893</td>\n",
       "      <td>9354280000</td>\n",
       "      <td>3955.507812</td>\n",
       "      <td>3917.469971</td>\n",
       "    </tr>\n",
       "    <tr>\n",
       "      <th>2023-03-21</th>\n",
       "      <td>3975.889893</td>\n",
       "      <td>4009.080078</td>\n",
       "      <td>3971.189941</td>\n",
       "      <td>4002.870117</td>\n",
       "      <td>4002.870117</td>\n",
       "      <td>4920240000</td>\n",
       "      <td>3958.487712</td>\n",
       "      <td>4002.040039</td>\n",
       "    </tr>\n",
       "    <tr>\n",
       "      <th>2023-03-22</th>\n",
       "      <td>4002.040039</td>\n",
       "      <td>4039.489990</td>\n",
       "      <td>3936.169922</td>\n",
       "      <td>3936.969971</td>\n",
       "      <td>3936.969971</td>\n",
       "      <td>4533010000</td>\n",
       "      <td>3959.551411</td>\n",
       "      <td>3959.209961</td>\n",
       "    </tr>\n",
       "    <tr>\n",
       "      <th>2023-03-24</th>\n",
       "      <td>3939.209961</td>\n",
       "      <td>3972.739990</td>\n",
       "      <td>3909.159912</td>\n",
       "      <td>3970.989990</td>\n",
       "      <td>3970.989990</td>\n",
       "      <td>4583970000</td>\n",
       "      <td>3961.664910</td>\n",
       "      <td>3982.929932</td>\n",
       "    </tr>\n",
       "  </tbody>\n",
       "</table>\n",
       "<p>103 rows × 8 columns</p>\n",
       "</div>"
      ],
      "text/plain": [
       "                   Open         High          Low        Close    Adj Close  \\\n",
       "Date                                                                          \n",
       "2015-05-27  2105.129883  2126.219971  2105.129883  2123.479980  2123.479980   \n",
       "2015-06-08  2092.340088  2093.010010  2079.110107  2079.280029  2079.280029   \n",
       "2015-06-10  2081.120117  2108.500000  2081.120117  2105.199951  2105.199951   \n",
       "2015-06-15  2091.340088  2091.340088  2072.489990  2084.429932  2084.429932   \n",
       "2015-06-16  2084.260010  2097.399902  2082.100098  2096.290039  2096.290039   \n",
       "...                 ...          ...          ...          ...          ...   \n",
       "2023-03-16  3878.929932  3964.459961  3864.110107  3960.280029  3960.280029   \n",
       "2023-03-17  3958.689941  3958.909912  3901.270020  3916.639893  3916.639893   \n",
       "2023-03-21  3975.889893  4009.080078  3971.189941  4002.870117  4002.870117   \n",
       "2023-03-22  4002.040039  4039.489990  3936.169922  3936.969971  3936.969971   \n",
       "2023-03-24  3939.209961  3972.739990  3909.159912  3970.989990  3970.989990   \n",
       "\n",
       "                Volume        MA100        price  \n",
       "Date                                              \n",
       "2015-05-27  3127960000  2078.878900  2122.270020  \n",
       "2015-06-08  2917150000  2084.538904  2079.070068  \n",
       "2015-06-10  3414320000  2086.353002  2106.239990  \n",
       "2015-06-15  3061570000  2088.486102  2084.260010  \n",
       "2015-06-16  2919900000  2088.817504  2097.399902  \n",
       "...                ...          ...          ...  \n",
       "2023-03-16  5695790000  3953.868914  3958.689941  \n",
       "2023-03-17  9354280000  3955.507812  3917.469971  \n",
       "2023-03-21  4920240000  3958.487712  4002.040039  \n",
       "2023-03-22  4533010000  3959.551411  3959.209961  \n",
       "2023-03-24  4583970000  3961.664910  3982.929932  \n",
       "\n",
       "[103 rows x 8 columns]"
      ]
     },
     "execution_count": 16,
     "metadata": {},
     "output_type": "execute_result"
    }
   ],
   "source": [
    "df[first_buy | (df.Close > df.MA100).diff()]"
   ]
  },
  {
   "cell_type": "code",
   "execution_count": 17,
   "id": "843bf76f",
   "metadata": {
    "scrolled": false
   },
   "outputs": [],
   "source": [
    "trades = df[first_buy | (df.Close > df.MA100).diff()].price"
   ]
  },
  {
   "cell_type": "code",
   "execution_count": 18,
   "id": "b5519607",
   "metadata": {
    "scrolled": true
   },
   "outputs": [
    {
     "data": {
      "text/plain": [
       "Date\n",
       "2015-05-27    2122.270020\n",
       "2015-06-08    2079.070068\n",
       "2015-06-10    2106.239990\n",
       "2015-06-15    2084.260010\n",
       "2015-06-16    2097.399902\n",
       "                 ...     \n",
       "2023-03-16    3958.689941\n",
       "2023-03-17    3917.469971\n",
       "2023-03-21    4002.040039\n",
       "2023-03-22    3959.209961\n",
       "2023-03-24    3982.929932\n",
       "Name: price, Length: 103, dtype: float64"
      ]
     },
     "execution_count": 18,
     "metadata": {},
     "output_type": "execute_result"
    }
   ],
   "source": [
    "trades"
   ]
  },
  {
   "cell_type": "code",
   "execution_count": 19,
   "id": "db4c192a",
   "metadata": {
    "scrolled": true
   },
   "outputs": [
    {
     "data": {
      "text/plain": [
       "103"
      ]
     },
     "execution_count": 19,
     "metadata": {},
     "output_type": "execute_result"
    }
   ],
   "source": [
    "len(trades)"
   ]
  },
  {
   "cell_type": "code",
   "execution_count": 20,
   "id": "657cda47",
   "metadata": {},
   "outputs": [
    {
     "data": {
      "text/plain": [
       "Date\n",
       "2023-06-16    4409.589844\n",
       "Name: Close, dtype: float64"
      ]
     },
     "execution_count": 20,
     "metadata": {},
     "output_type": "execute_result"
    }
   ],
   "source": [
    "df.Close.iloc[-1:]"
   ]
  },
  {
   "cell_type": "code",
   "execution_count": 21,
   "id": "ed8d33ed",
   "metadata": {},
   "outputs": [],
   "source": [
    "if len(trades) % 2 != 0:\n",
    "    mtm = df.Close[-1:]\n",
    "    trades = pd.concat([trades,mtm])"
   ]
  },
  {
   "cell_type": "code",
   "execution_count": 22,
   "id": "eea65b07",
   "metadata": {},
   "outputs": [
    {
     "data": {
      "text/plain": [
       "Date\n",
       "2015-05-27    2122.270020\n",
       "2015-06-08    2079.070068\n",
       "2015-06-10    2106.239990\n",
       "2015-06-15    2084.260010\n",
       "2015-06-16    2097.399902\n",
       "                 ...     \n",
       "2023-03-17    3917.469971\n",
       "2023-03-21    4002.040039\n",
       "2023-03-22    3959.209961\n",
       "2023-03-24    3982.929932\n",
       "2023-06-16    4409.589844\n",
       "Length: 104, dtype: float64"
      ]
     },
     "execution_count": 22,
     "metadata": {},
     "output_type": "execute_result"
    }
   ],
   "source": [
    "trades"
   ]
  },
  {
   "cell_type": "code",
   "execution_count": 23,
   "id": "2cc13347",
   "metadata": {},
   "outputs": [],
   "source": [
    "buys = trades[::2]"
   ]
  },
  {
   "cell_type": "code",
   "execution_count": 24,
   "id": "c0224fe0",
   "metadata": {},
   "outputs": [],
   "source": [
    "sells = trades[1::2]"
   ]
  },
  {
   "cell_type": "code",
   "execution_count": 25,
   "id": "bbf831ee",
   "metadata": {},
   "outputs": [],
   "source": [
    "profits = (sells.values - buys.values)/buys.values"
   ]
  },
  {
   "cell_type": "code",
   "execution_count": 26,
   "id": "2f8680ff",
   "metadata": {},
   "outputs": [
    {
     "data": {
      "text/plain": [
       "array([-2.03555395e-02, -1.04356486e-02, -1.72642141e-02, -1.02537622e-02,\n",
       "       -5.46331824e-03, -8.63496017e-03, -1.02535909e-02, -2.99718308e-03,\n",
       "       -1.75445349e-02, -1.96233710e-02, -1.77033865e-02, -1.39163268e-02,\n",
       "       -7.34931645e-03, -6.23986662e-03,  4.64975024e-02, -1.43760268e-03,\n",
       "       -5.93100505e-03,  2.00365419e-01,  1.66249628e-04, -6.47576967e-03,\n",
       "       -7.44482311e-03, -8.37944165e-04, -1.56765700e-02,  1.82390412e-02,\n",
       "        2.14782071e-02,  1.52904423e-02, -1.69902300e-02, -1.65678879e-02,\n",
       "        1.03803320e-03, -2.19178801e-02, -4.22873172e-03, -2.54070838e-02,\n",
       "       -1.12524779e-02,  5.96779117e-02,  8.67209484e-02,  7.92406830e-04,\n",
       "        2.67345046e-01, -8.96094774e-03, -5.86719870e-03,  2.24071726e-02,\n",
       "       -1.16020636e-02, -1.03157779e-02, -1.35872134e-02, -1.18295174e-02,\n",
       "       -1.98666517e-03, -2.89468974e-02, -3.50028147e-02, -1.83691227e-02,\n",
       "        4.98604164e-04, -1.04125282e-02, -1.07020614e-02,  1.07122124e-01])"
      ]
     },
     "execution_count": 26,
     "metadata": {},
     "output_type": "execute_result"
    }
   ],
   "source": [
    "profits"
   ]
  },
  {
   "cell_type": "code",
   "execution_count": 27,
   "id": "87511b1d",
   "metadata": {
    "scrolled": true
   },
   "outputs": [
    {
     "data": {
      "text/plain": [
       "0.3678293730638078"
      ]
     },
     "execution_count": 27,
     "metadata": {},
     "output_type": "execute_result"
    }
   ],
   "source": [
    "(profits + 1).prod() - 1"
   ]
  },
  {
   "cell_type": "code",
   "execution_count": null,
   "id": "82e80e6c",
   "metadata": {},
   "outputs": [],
   "source": []
  }
 ],
 "metadata": {
  "kernelspec": {
   "display_name": "Python 3 (ipykernel)",
   "language": "python",
   "name": "python3"
  },
  "language_info": {
   "codemirror_mode": {
    "name": "ipython",
    "version": 3
   },
   "file_extension": ".py",
   "mimetype": "text/x-python",
   "name": "python",
   "nbconvert_exporter": "python",
   "pygments_lexer": "ipython3",
   "version": "3.9.13"
  }
 },
 "nbformat": 4,
 "nbformat_minor": 5
}
